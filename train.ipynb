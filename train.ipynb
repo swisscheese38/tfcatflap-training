{
  "nbformat": 4,
  "nbformat_minor": 0,
  "metadata": {
    "colab": {
      "provenance": [],
      "authorship_tag": "ABX9TyPNO54riuZBue2zGjbtmuGl",
      "include_colab_link": true
    },
    "kernelspec": {
      "name": "python3",
      "display_name": "Python 3"
    },
    "language_info": {
      "name": "python"
    },
    "accelerator": "GPU",
    "gpuClass": "standard"
  },
  "cells": [
    {
      "cell_type": "markdown",
      "metadata": {
        "id": "view-in-github",
        "colab_type": "text"
      },
      "source": [
        "<a href=\"https://colab.research.google.com/github/swisscheese38/tfcatflap/blob/main/training_material/train.ipynb\" target=\"_parent\"><img src=\"https://colab.research.google.com/assets/colab-badge.svg\" alt=\"Open In Colab\"/></a>"
      ]
    },
    {
      "cell_type": "markdown",
      "source": [
        "# Learn and export the model\n",
        "According to https://www.tensorflow.org/lite/models/modify/model_maker/object_detection\n",
        "## Install dependencies"
      ],
      "metadata": {
        "id": "q_ZFvDo9O0wM"
      }
    },
    {
      "cell_type": "code",
      "execution_count": 1,
      "metadata": {
        "colab": {
          "base_uri": "https://localhost:8080/"
        },
        "id": "ltOWg04wNHsH",
        "outputId": "ec3cecab-bc41-44d8-edf9-db182f53f413"
      },
      "outputs": [
        {
          "output_type": "stream",
          "name": "stdout",
          "text": [
            "Python 3.8.15\n",
            "pip 21.1.3 from /usr/local/lib/python3.8/dist-packages/pip (python 3.8)\n",
            "\u001b[K     |████████████████████████████████| 577 kB 29.5 MB/s \n",
            "\u001b[K     |████████████████████████████████| 77 kB 7.3 MB/s \n",
            "\u001b[K     |████████████████████████████████| 128 kB 80.0 MB/s \n",
            "\u001b[K     |████████████████████████████████| 1.3 MB 9.6 MB/s \n",
            "\u001b[K     |████████████████████████████████| 3.4 MB 10.4 MB/s \n",
            "\u001b[K     |████████████████████████████████| 10.9 MB 12.4 MB/s \n",
            "\u001b[K     |████████████████████████████████| 238 kB 81.0 MB/s \n",
            "\u001b[K     |████████████████████████████████| 840 kB 73.2 MB/s \n",
            "\u001b[K     |████████████████████████████████| 87 kB 8.0 MB/s \n",
            "\u001b[K     |████████████████████████████████| 1.1 MB 64.6 MB/s \n",
            "\u001b[K     |████████████████████████████████| 60.8 MB 1.2 MB/s \n",
            "\u001b[K     |████████████████████████████████| 25.3 MB 1.2 MB/s \n",
            "\u001b[K     |████████████████████████████████| 498.0 MB 12 kB/s \n",
            "\u001b[K     |████████████████████████████████| 352 kB 79.9 MB/s \n",
            "\u001b[K     |████████████████████████████████| 5.8 MB 60.9 MB/s \n",
            "\u001b[K     |████████████████████████████████| 462 kB 79.5 MB/s \n",
            "\u001b[K     |████████████████████████████████| 1.4 MB 69.1 MB/s \n",
            "\u001b[K     |████████████████████████████████| 40 kB 5.9 MB/s \n",
            "\u001b[K     |████████████████████████████████| 216 kB 86.4 MB/s \n",
            "\u001b[?25h  Building wheel for fire (setup.py) ... \u001b[?25l\u001b[?25hdone\n"
          ]
        }
      ],
      "source": [
        "!python --version\n",
        "!pip --version\n",
        "!pip install -q tflite-model-maker"
      ]
    },
    {
      "cell_type": "markdown",
      "source": [
        "## Download pictures and bounding boxes"
      ],
      "metadata": {
        "id": "zLZl6_INPBRb"
      }
    },
    {
      "cell_type": "code",
      "source": [
        "#!wget https://codeload.github.com/swisscheese38/tfcatflap/tar.gz/refs/heads/main -q -O download.tgz\n",
        "#!tar -zxf download.tgz --wildcards \"tfcatflap-main/training_material/*.jpg\" --strip-components=2\n",
        "#!tar -zxf download.tgz \"tfcatflap-main/training_material/index.csv\" --strip-components=2\n",
        "#!rm download.tgz\n",
        "#!ls\n",
        "!pwd"
      ],
      "metadata": {
        "colab": {
          "base_uri": "https://localhost:8080/"
        },
        "id": "siZ5PswaTYUr",
        "outputId": "0f563d12-cf6e-4ff1-9be3-7b25a7de86ed"
      },
      "execution_count": 3,
      "outputs": [
        {
          "output_type": "stream",
          "name": "stdout",
          "text": [
            "/content\n"
          ]
        }
      ]
    },
    {
      "cell_type": "markdown",
      "source": [
        "## Load data\n"
      ],
      "metadata": {
        "id": "8Pp0HLEMY-eY"
      }
    },
    {
      "cell_type": "code",
      "source": [
        "from __future__ import annotations\n",
        "from tflite_model_maker import object_detector\n",
        "from tflite_model_maker import model_spec\n",
        "\n",
        "spec = model_spec.get('efficientdet_lite0')\n",
        "train_data = object_detector.DataLoader.from_pascal_voc(images_dir='train', annotations_dir='train', label_map=['Snout'])\n",
        "validation_data = object_detector.DataLoader.from_pascal_voc(images_dir='validate', annotations_dir='validate', label_map=['Snout'])\n",
        "test_data = object_detector.DataLoader.from_pascal_voc(images_dir='test', annotations_dir='test', label_map=['Snout'])\n",
        "#data = object_detector.DataLoader.from_pascal_voc(\n",
        "#    images_dir='images', annotations_dir='labels',label_map=['Snout'])\n",
        "#train_data, validation_and_test_data = data.split(0.8)\n",
        "#validation_data, test_data = validation_and_test_data.split(0.5)\n",
        "\n",
        "#train_data, validation_data, test_data = object_detector.DataLoader.from_csv('index.csv')"
      ],
      "metadata": {
        "id": "qdEkPdeLRLhg"
      },
      "execution_count": 15,
      "outputs": []
    },
    {
      "cell_type": "markdown",
      "source": [
        "## Train model"
      ],
      "metadata": {
        "id": "YJxBBiSNZDFn"
      }
    },
    {
      "cell_type": "code",
      "source": [
        "model = object_detector.create(train_data, model_spec=spec, batch_size=4, train_whole_model=True, validation_data=validation_data)"
      ],
      "metadata": {
        "colab": {
          "base_uri": "https://localhost:8080/"
        },
        "id": "1_lH4VeTZFxj",
        "outputId": "f431f141-03c6-4dd6-9ea3-53d5320f2302"
      },
      "execution_count": 16,
      "outputs": [
        {
          "output_type": "stream",
          "name": "stdout",
          "text": [
            "Epoch 1/50\n",
            "6/9 [===================>..........] - ETA: 0s - det_loss: 1.7948 - cls_loss: 1.1240 - box_loss: 0.0134 - reg_l2_loss: 0.0630 - loss: 1.8578 - learning_rate: 0.0072 - gradient_norm: 2.8337"
          ]
        },
        {
          "output_type": "stream",
          "name": "stderr",
          "text": [
            "WARNING:tensorflow:Callback method `on_train_batch_end` is slow compared to the batch time (batch time: 0.1151s vs `on_train_batch_end` time: 0.2124s). Check your callbacks.\n"
          ]
        },
        {
          "output_type": "stream",
          "name": "stdout",
          "text": [
            "9/9 [==============================] - 41s 592ms/step - det_loss: 1.7611 - cls_loss: 1.1178 - box_loss: 0.0129 - reg_l2_loss: 0.0630 - loss: 1.8241 - learning_rate: 0.0065 - gradient_norm: 2.8153 - val_det_loss: 1.6738 - val_cls_loss: 1.0845 - val_box_loss: 0.0118 - val_reg_l2_loss: 0.0630 - val_loss: 1.7368\n",
            "Epoch 2/50\n",
            "9/9 [==============================] - 3s 405ms/step - det_loss: 1.6327 - cls_loss: 1.0688 - box_loss: 0.0113 - reg_l2_loss: 0.0630 - loss: 1.6957 - learning_rate: 0.0050 - gradient_norm: 3.0651 - val_det_loss: 1.5737 - val_cls_loss: 1.0203 - val_box_loss: 0.0111 - val_reg_l2_loss: 0.0630 - val_loss: 1.6367\n",
            "Epoch 3/50\n",
            "9/9 [==============================] - 3s 347ms/step - det_loss: 1.5283 - cls_loss: 0.9828 - box_loss: 0.0109 - reg_l2_loss: 0.0630 - loss: 1.5913 - learning_rate: 0.0050 - gradient_norm: 3.7545 - val_det_loss: 1.4387 - val_cls_loss: 0.9176 - val_box_loss: 0.0104 - val_reg_l2_loss: 0.0630 - val_loss: 1.5017\n",
            "Epoch 4/50\n",
            "9/9 [==============================] - 3s 346ms/step - det_loss: 1.3913 - cls_loss: 0.8634 - box_loss: 0.0106 - reg_l2_loss: 0.0630 - loss: 1.4544 - learning_rate: 0.0049 - gradient_norm: 4.8129 - val_det_loss: 1.2855 - val_cls_loss: 0.7835 - val_box_loss: 0.0100 - val_reg_l2_loss: 0.0630 - val_loss: 1.3486\n",
            "Epoch 5/50\n",
            "9/9 [==============================] - 7s 870ms/step - det_loss: 1.2344 - cls_loss: 0.7342 - box_loss: 0.0100 - reg_l2_loss: 0.0630 - loss: 1.2974 - learning_rate: 0.0049 - gradient_norm: 4.6945 - val_det_loss: 1.1199 - val_cls_loss: 0.6341 - val_box_loss: 0.0097 - val_reg_l2_loss: 0.0630 - val_loss: 1.1830\n",
            "Epoch 6/50\n",
            "9/9 [==============================] - 3s 408ms/step - det_loss: 1.1324 - cls_loss: 0.6486 - box_loss: 0.0097 - reg_l2_loss: 0.0630 - loss: 1.1955 - learning_rate: 0.0048 - gradient_norm: 5.1844 - val_det_loss: 0.9894 - val_cls_loss: 0.5184 - val_box_loss: 0.0094 - val_reg_l2_loss: 0.0630 - val_loss: 1.0524\n",
            "Epoch 7/50\n",
            "9/9 [==============================] - 3s 348ms/step - det_loss: 0.9885 - cls_loss: 0.5306 - box_loss: 0.0092 - reg_l2_loss: 0.0630 - loss: 1.0515 - learning_rate: 0.0048 - gradient_norm: 5.0473 - val_det_loss: 1.0296 - val_cls_loss: 0.5467 - val_box_loss: 0.0097 - val_reg_l2_loss: 0.0630 - val_loss: 1.0927\n",
            "Epoch 8/50\n",
            "9/9 [==============================] - 3s 347ms/step - det_loss: 0.9195 - cls_loss: 0.4882 - box_loss: 0.0086 - reg_l2_loss: 0.0630 - loss: 0.9825 - learning_rate: 0.0047 - gradient_norm: 5.6585 - val_det_loss: 1.0901 - val_cls_loss: 0.6039 - val_box_loss: 0.0097 - val_reg_l2_loss: 0.0630 - val_loss: 1.1532\n",
            "Epoch 9/50\n",
            "9/9 [==============================] - 3s 362ms/step - det_loss: 0.9508 - cls_loss: 0.5241 - box_loss: 0.0085 - reg_l2_loss: 0.0631 - loss: 1.0139 - learning_rate: 0.0046 - gradient_norm: 7.4881 - val_det_loss: 1.0304 - val_cls_loss: 0.5341 - val_box_loss: 0.0099 - val_reg_l2_loss: 0.0631 - val_loss: 1.0934\n",
            "Epoch 10/50\n",
            "9/9 [==============================] - 6s 692ms/step - det_loss: 0.8607 - cls_loss: 0.4546 - box_loss: 0.0081 - reg_l2_loss: 0.0631 - loss: 0.9238 - learning_rate: 0.0046 - gradient_norm: 5.0872 - val_det_loss: 0.9904 - val_cls_loss: 0.5586 - val_box_loss: 0.0086 - val_reg_l2_loss: 0.0631 - val_loss: 1.0535\n",
            "Epoch 11/50\n",
            "9/9 [==============================] - 3s 352ms/step - det_loss: 0.8364 - cls_loss: 0.4235 - box_loss: 0.0083 - reg_l2_loss: 0.0631 - loss: 0.8995 - learning_rate: 0.0045 - gradient_norm: 3.7915 - val_det_loss: 1.1867 - val_cls_loss: 0.6926 - val_box_loss: 0.0099 - val_reg_l2_loss: 0.0631 - val_loss: 1.2498\n",
            "Epoch 12/50\n",
            "9/9 [==============================] - 3s 356ms/step - det_loss: 0.8220 - cls_loss: 0.4064 - box_loss: 0.0083 - reg_l2_loss: 0.0631 - loss: 0.8851 - learning_rate: 0.0044 - gradient_norm: 4.7661 - val_det_loss: 1.2691 - val_cls_loss: 0.7220 - val_box_loss: 0.0109 - val_reg_l2_loss: 0.0631 - val_loss: 1.3322\n",
            "Epoch 13/50\n",
            "9/9 [==============================] - 3s 342ms/step - det_loss: 0.6878 - cls_loss: 0.3337 - box_loss: 0.0071 - reg_l2_loss: 0.0631 - loss: 0.7509 - learning_rate: 0.0042 - gradient_norm: 4.3922 - val_det_loss: 1.2458 - val_cls_loss: 0.7156 - val_box_loss: 0.0106 - val_reg_l2_loss: 0.0631 - val_loss: 1.3089\n",
            "Epoch 14/50\n",
            "9/9 [==============================] - 3s 406ms/step - det_loss: 0.7598 - cls_loss: 0.3878 - box_loss: 0.0074 - reg_l2_loss: 0.0631 - loss: 0.8230 - learning_rate: 0.0041 - gradient_norm: 5.2393 - val_det_loss: 1.2108 - val_cls_loss: 0.7057 - val_box_loss: 0.0101 - val_reg_l2_loss: 0.0631 - val_loss: 1.2739\n",
            "Epoch 15/50\n",
            "9/9 [==============================] - 3s 414ms/step - det_loss: 0.7772 - cls_loss: 0.3991 - box_loss: 0.0076 - reg_l2_loss: 0.0631 - loss: 0.8404 - learning_rate: 0.0040 - gradient_norm: 5.8033 - val_det_loss: 1.1893 - val_cls_loss: 0.6146 - val_box_loss: 0.0115 - val_reg_l2_loss: 0.0631 - val_loss: 1.2524\n",
            "Epoch 16/50\n",
            "9/9 [==============================] - 3s 349ms/step - det_loss: 0.7987 - cls_loss: 0.4128 - box_loss: 0.0077 - reg_l2_loss: 0.0631 - loss: 0.8619 - learning_rate: 0.0039 - gradient_norm: 5.7819 - val_det_loss: 1.0061 - val_cls_loss: 0.5273 - val_box_loss: 0.0096 - val_reg_l2_loss: 0.0631 - val_loss: 1.0692\n",
            "Epoch 17/50\n",
            "9/9 [==============================] - 4s 513ms/step - det_loss: 0.7072 - cls_loss: 0.3588 - box_loss: 0.0070 - reg_l2_loss: 0.0631 - loss: 0.7703 - learning_rate: 0.0037 - gradient_norm: 4.6219 - val_det_loss: 1.2318 - val_cls_loss: 0.7786 - val_box_loss: 0.0091 - val_reg_l2_loss: 0.0631 - val_loss: 1.2949\n",
            "Epoch 18/50\n",
            "9/9 [==============================] - 4s 450ms/step - det_loss: 0.6965 - cls_loss: 0.3501 - box_loss: 0.0069 - reg_l2_loss: 0.0631 - loss: 0.7596 - learning_rate: 0.0036 - gradient_norm: 5.6319 - val_det_loss: 1.4059 - val_cls_loss: 0.9024 - val_box_loss: 0.0101 - val_reg_l2_loss: 0.0631 - val_loss: 1.4691\n",
            "Epoch 19/50\n",
            "9/9 [==============================] - 3s 407ms/step - det_loss: 0.6981 - cls_loss: 0.3341 - box_loss: 0.0073 - reg_l2_loss: 0.0632 - loss: 0.7612 - learning_rate: 0.0034 - gradient_norm: 5.1081 - val_det_loss: 1.4226 - val_cls_loss: 0.8895 - val_box_loss: 0.0107 - val_reg_l2_loss: 0.0632 - val_loss: 1.4858\n",
            "Epoch 20/50\n",
            "9/9 [==============================] - 4s 432ms/step - det_loss: 0.6550 - cls_loss: 0.3290 - box_loss: 0.0065 - reg_l2_loss: 0.0632 - loss: 0.7181 - learning_rate: 0.0033 - gradient_norm: 5.8670 - val_det_loss: 1.0516 - val_cls_loss: 0.5072 - val_box_loss: 0.0109 - val_reg_l2_loss: 0.0632 - val_loss: 1.1148\n",
            "Epoch 21/50\n",
            "9/9 [==============================] - 3s 353ms/step - det_loss: 0.6878 - cls_loss: 0.3502 - box_loss: 0.0068 - reg_l2_loss: 0.0632 - loss: 0.7510 - learning_rate: 0.0031 - gradient_norm: 5.5776 - val_det_loss: 1.2154 - val_cls_loss: 0.6499 - val_box_loss: 0.0113 - val_reg_l2_loss: 0.0632 - val_loss: 1.2785\n",
            "Epoch 22/50\n",
            "9/9 [==============================] - 3s 348ms/step - det_loss: 0.6829 - cls_loss: 0.3357 - box_loss: 0.0069 - reg_l2_loss: 0.0632 - loss: 0.7461 - learning_rate: 0.0030 - gradient_norm: 7.8617 - val_det_loss: 0.8071 - val_cls_loss: 0.4103 - val_box_loss: 0.0079 - val_reg_l2_loss: 0.0632 - val_loss: 0.8703\n",
            "Epoch 23/50\n",
            "9/9 [==============================] - 3s 408ms/step - det_loss: 0.7298 - cls_loss: 0.3755 - box_loss: 0.0071 - reg_l2_loss: 0.0632 - loss: 0.7930 - learning_rate: 0.0028 - gradient_norm: 7.3246 - val_det_loss: 0.8642 - val_cls_loss: 0.4539 - val_box_loss: 0.0082 - val_reg_l2_loss: 0.0632 - val_loss: 0.9273\n",
            "Epoch 24/50\n",
            "9/9 [==============================] - 3s 359ms/step - det_loss: 0.6806 - cls_loss: 0.3642 - box_loss: 0.0063 - reg_l2_loss: 0.0632 - loss: 0.7438 - learning_rate: 0.0027 - gradient_norm: 7.8397 - val_det_loss: 0.8410 - val_cls_loss: 0.4583 - val_box_loss: 0.0077 - val_reg_l2_loss: 0.0632 - val_loss: 0.9042\n",
            "Epoch 25/50\n",
            "9/9 [==============================] - 4s 418ms/step - det_loss: 0.6343 - cls_loss: 0.3326 - box_loss: 0.0060 - reg_l2_loss: 0.0632 - loss: 0.6975 - learning_rate: 0.0025 - gradient_norm: 6.3807 - val_det_loss: 0.8097 - val_cls_loss: 0.4287 - val_box_loss: 0.0076 - val_reg_l2_loss: 0.0632 - val_loss: 0.8729\n",
            "Epoch 26/50\n",
            "9/9 [==============================] - 3s 347ms/step - det_loss: 0.7001 - cls_loss: 0.3589 - box_loss: 0.0068 - reg_l2_loss: 0.0632 - loss: 0.7633 - learning_rate: 0.0023 - gradient_norm: 7.5402 - val_det_loss: 0.9642 - val_cls_loss: 0.5427 - val_box_loss: 0.0084 - val_reg_l2_loss: 0.0632 - val_loss: 1.0274\n",
            "Epoch 27/50\n",
            "9/9 [==============================] - 3s 342ms/step - det_loss: 0.6449 - cls_loss: 0.3276 - box_loss: 0.0063 - reg_l2_loss: 0.0632 - loss: 0.7081 - learning_rate: 0.0022 - gradient_norm: 6.1752 - val_det_loss: 1.0854 - val_cls_loss: 0.6135 - val_box_loss: 0.0094 - val_reg_l2_loss: 0.0632 - val_loss: 1.1486\n",
            "Epoch 28/50\n",
            "9/9 [==============================] - 4s 418ms/step - det_loss: 0.6135 - cls_loss: 0.3105 - box_loss: 0.0061 - reg_l2_loss: 0.0632 - loss: 0.6767 - learning_rate: 0.0020 - gradient_norm: 6.1931 - val_det_loss: 0.9662 - val_cls_loss: 0.5331 - val_box_loss: 0.0087 - val_reg_l2_loss: 0.0632 - val_loss: 1.0294\n",
            "Epoch 29/50\n",
            "9/9 [==============================] - 3s 354ms/step - det_loss: 0.5672 - cls_loss: 0.2784 - box_loss: 0.0058 - reg_l2_loss: 0.0632 - loss: 0.6304 - learning_rate: 0.0019 - gradient_norm: 6.4489 - val_det_loss: 0.9938 - val_cls_loss: 0.5466 - val_box_loss: 0.0089 - val_reg_l2_loss: 0.0632 - val_loss: 1.0571\n",
            "Epoch 30/50\n",
            "9/9 [==============================] - 4s 428ms/step - det_loss: 0.6104 - cls_loss: 0.3025 - box_loss: 0.0062 - reg_l2_loss: 0.0632 - loss: 0.6736 - learning_rate: 0.0017 - gradient_norm: 5.5441 - val_det_loss: 0.9448 - val_cls_loss: 0.5147 - val_box_loss: 0.0086 - val_reg_l2_loss: 0.0632 - val_loss: 1.0080\n",
            "Epoch 31/50\n",
            "9/9 [==============================] - 3s 345ms/step - det_loss: 0.6137 - cls_loss: 0.3049 - box_loss: 0.0062 - reg_l2_loss: 0.0632 - loss: 0.6770 - learning_rate: 0.0016 - gradient_norm: 4.7386 - val_det_loss: 1.0146 - val_cls_loss: 0.5456 - val_box_loss: 0.0094 - val_reg_l2_loss: 0.0632 - val_loss: 1.0778\n",
            "Epoch 32/50\n",
            "9/9 [==============================] - 3s 411ms/step - det_loss: 0.6194 - cls_loss: 0.3002 - box_loss: 0.0064 - reg_l2_loss: 0.0632 - loss: 0.6826 - learning_rate: 0.0014 - gradient_norm: 5.9825 - val_det_loss: 0.9839 - val_cls_loss: 0.5267 - val_box_loss: 0.0091 - val_reg_l2_loss: 0.0632 - val_loss: 1.0471\n",
            "Epoch 33/50\n",
            "9/9 [==============================] - 3s 345ms/step - det_loss: 0.6100 - cls_loss: 0.3154 - box_loss: 0.0059 - reg_l2_loss: 0.0632 - loss: 0.6733 - learning_rate: 0.0013 - gradient_norm: 5.7568 - val_det_loss: 0.8441 - val_cls_loss: 0.4436 - val_box_loss: 0.0080 - val_reg_l2_loss: 0.0632 - val_loss: 0.9073\n",
            "Epoch 34/50\n",
            "9/9 [==============================] - 3s 349ms/step - det_loss: 0.6069 - cls_loss: 0.3081 - box_loss: 0.0060 - reg_l2_loss: 0.0632 - loss: 0.6701 - learning_rate: 0.0011 - gradient_norm: 6.4871 - val_det_loss: 0.8621 - val_cls_loss: 0.4618 - val_box_loss: 0.0080 - val_reg_l2_loss: 0.0632 - val_loss: 0.9253\n",
            "Epoch 35/50\n",
            "9/9 [==============================] - 3s 413ms/step - det_loss: 0.5062 - cls_loss: 0.2503 - box_loss: 0.0051 - reg_l2_loss: 0.0632 - loss: 0.5694 - learning_rate: 0.0010 - gradient_norm: 4.7166 - val_det_loss: 0.8613 - val_cls_loss: 0.4367 - val_box_loss: 0.0085 - val_reg_l2_loss: 0.0632 - val_loss: 0.9245\n",
            "Epoch 36/50\n",
            "9/9 [==============================] - 3s 356ms/step - det_loss: 0.5647 - cls_loss: 0.2824 - box_loss: 0.0056 - reg_l2_loss: 0.0632 - loss: 0.6280 - learning_rate: 8.8109e-04 - gradient_norm: 5.7361 - val_det_loss: 0.8885 - val_cls_loss: 0.4458 - val_box_loss: 0.0089 - val_reg_l2_loss: 0.0632 - val_loss: 0.9518\n",
            "Epoch 37/50\n",
            "9/9 [==============================] - 3s 404ms/step - det_loss: 0.4674 - cls_loss: 0.2550 - box_loss: 0.0042 - reg_l2_loss: 0.0632 - loss: 0.5306 - learning_rate: 7.6240e-04 - gradient_norm: 4.3513 - val_det_loss: 0.8921 - val_cls_loss: 0.4571 - val_box_loss: 0.0087 - val_reg_l2_loss: 0.0632 - val_loss: 0.9553\n",
            "Epoch 38/50\n",
            "9/9 [==============================] - 3s 346ms/step - det_loss: 0.4763 - cls_loss: 0.2445 - box_loss: 0.0046 - reg_l2_loss: 0.0632 - loss: 0.5395 - learning_rate: 6.5085e-04 - gradient_norm: 5.1876 - val_det_loss: 0.8601 - val_cls_loss: 0.4535 - val_box_loss: 0.0081 - val_reg_l2_loss: 0.0632 - val_loss: 0.9233\n",
            "Epoch 39/50\n",
            "9/9 [==============================] - 3s 356ms/step - det_loss: 0.5563 - cls_loss: 0.2787 - box_loss: 0.0056 - reg_l2_loss: 0.0632 - loss: 0.6195 - learning_rate: 5.4690e-04 - gradient_norm: 5.2954 - val_det_loss: 0.8558 - val_cls_loss: 0.4510 - val_box_loss: 0.0081 - val_reg_l2_loss: 0.0632 - val_loss: 0.9190\n",
            "Epoch 40/50\n",
            "9/9 [==============================] - 4s 426ms/step - det_loss: 0.5487 - cls_loss: 0.2836 - box_loss: 0.0053 - reg_l2_loss: 0.0632 - loss: 0.6119 - learning_rate: 4.5098e-04 - gradient_norm: 4.9838 - val_det_loss: 0.8382 - val_cls_loss: 0.4417 - val_box_loss: 0.0079 - val_reg_l2_loss: 0.0632 - val_loss: 0.9014\n",
            "Epoch 41/50\n",
            "9/9 [==============================] - 4s 416ms/step - det_loss: 0.4966 - cls_loss: 0.2445 - box_loss: 0.0050 - reg_l2_loss: 0.0632 - loss: 0.5598 - learning_rate: 3.6347e-04 - gradient_norm: 4.8319 - val_det_loss: 0.8094 - val_cls_loss: 0.4235 - val_box_loss: 0.0077 - val_reg_l2_loss: 0.0632 - val_loss: 0.8727\n",
            "Epoch 42/50\n",
            "9/9 [==============================] - 3s 354ms/step - det_loss: 0.4232 - cls_loss: 0.2197 - box_loss: 0.0041 - reg_l2_loss: 0.0632 - loss: 0.4864 - learning_rate: 2.8474e-04 - gradient_norm: 4.8459 - val_det_loss: 0.7771 - val_cls_loss: 0.4160 - val_box_loss: 0.0072 - val_reg_l2_loss: 0.0632 - val_loss: 0.8403\n",
            "Epoch 43/50\n",
            "9/9 [==============================] - 3s 359ms/step - det_loss: 0.4534 - cls_loss: 0.2315 - box_loss: 0.0044 - reg_l2_loss: 0.0632 - loss: 0.5166 - learning_rate: 2.1512e-04 - gradient_norm: 4.3351 - val_det_loss: 0.7691 - val_cls_loss: 0.4143 - val_box_loss: 0.0071 - val_reg_l2_loss: 0.0632 - val_loss: 0.8323\n",
            "Epoch 44/50\n",
            "9/9 [==============================] - 3s 346ms/step - det_loss: 0.4649 - cls_loss: 0.2370 - box_loss: 0.0046 - reg_l2_loss: 0.0632 - loss: 0.5281 - learning_rate: 1.5489e-04 - gradient_norm: 4.6496 - val_det_loss: 0.7625 - val_cls_loss: 0.4095 - val_box_loss: 0.0071 - val_reg_l2_loss: 0.0632 - val_loss: 0.8257\n",
            "Epoch 45/50\n",
            "9/9 [==============================] - 4s 424ms/step - det_loss: 0.4741 - cls_loss: 0.2497 - box_loss: 0.0045 - reg_l2_loss: 0.0632 - loss: 0.5373 - learning_rate: 1.0429e-04 - gradient_norm: 5.6411 - val_det_loss: 0.7609 - val_cls_loss: 0.4070 - val_box_loss: 0.0071 - val_reg_l2_loss: 0.0632 - val_loss: 0.8242\n",
            "Epoch 46/50\n",
            "9/9 [==============================] - 4s 421ms/step - det_loss: 0.4834 - cls_loss: 0.2594 - box_loss: 0.0045 - reg_l2_loss: 0.0632 - loss: 0.5466 - learning_rate: 6.3537e-05 - gradient_norm: 5.6863 - val_det_loss: 0.7599 - val_cls_loss: 0.4059 - val_box_loss: 0.0071 - val_reg_l2_loss: 0.0632 - val_loss: 0.8232\n",
            "Epoch 47/50\n",
            "9/9 [==============================] - 3s 349ms/step - det_loss: 0.5462 - cls_loss: 0.2795 - box_loss: 0.0053 - reg_l2_loss: 0.0632 - loss: 0.6095 - learning_rate: 3.2796e-05 - gradient_norm: 5.2761 - val_det_loss: 0.7586 - val_cls_loss: 0.4067 - val_box_loss: 0.0070 - val_reg_l2_loss: 0.0632 - val_loss: 0.8219\n",
            "Epoch 48/50\n",
            "9/9 [==============================] - 3s 347ms/step - det_loss: 0.5523 - cls_loss: 0.2862 - box_loss: 0.0053 - reg_l2_loss: 0.0632 - loss: 0.6155 - learning_rate: 1.2194e-05 - gradient_norm: 5.2579 - val_det_loss: 0.7553 - val_cls_loss: 0.4058 - val_box_loss: 0.0070 - val_reg_l2_loss: 0.0632 - val_loss: 0.8185\n",
            "Epoch 49/50\n",
            "9/9 [==============================] - 3s 358ms/step - det_loss: 0.5578 - cls_loss: 0.2805 - box_loss: 0.0055 - reg_l2_loss: 0.0632 - loss: 0.6210 - learning_rate: 1.8138e-06 - gradient_norm: 5.7082 - val_det_loss: 0.7539 - val_cls_loss: 0.4074 - val_box_loss: 0.0069 - val_reg_l2_loss: 0.0632 - val_loss: 0.8171\n",
            "Epoch 50/50\n",
            "9/9 [==============================] - 4s 483ms/step - det_loss: 0.5387 - cls_loss: 0.2594 - box_loss: 0.0056 - reg_l2_loss: 0.0632 - loss: 0.6020 - learning_rate: 1.6997e-06 - gradient_norm: 4.9711 - val_det_loss: 0.7519 - val_cls_loss: 0.4072 - val_box_loss: 0.0069 - val_reg_l2_loss: 0.0632 - val_loss: 0.8151\n"
          ]
        }
      ]
    },
    {
      "cell_type": "markdown",
      "source": [
        "## Test the model"
      ],
      "metadata": {
        "id": "UdqrlHrSsmms"
      }
    },
    {
      "cell_type": "code",
      "source": [
        "model.evaluate(test_data)"
      ],
      "metadata": {
        "colab": {
          "base_uri": "https://localhost:8080/"
        },
        "id": "VL5SDWyFsozu",
        "outputId": "80582911-9bd9-4eb0-ceca-324cc7bafc58"
      },
      "execution_count": 17,
      "outputs": [
        {
          "output_type": "stream",
          "name": "stdout",
          "text": [
            "\r1/1 [==============================] - 3s 3s/step\n",
            "\n"
          ]
        },
        {
          "output_type": "execute_result",
          "data": {
            "text/plain": [
              "{'AP': 0.62115514,\n",
              " 'AP50': 1.0,\n",
              " 'AP75': 0.6442244,\n",
              " 'APs': -1.0,\n",
              " 'APm': -1.0,\n",
              " 'APl': 0.62115514,\n",
              " 'ARmax1': 0.6,\n",
              " 'ARmax10': 0.73333335,\n",
              " 'ARmax100': 0.73333335,\n",
              " 'ARs': -1.0,\n",
              " 'ARm': -1.0,\n",
              " 'ARl': 0.73333335,\n",
              " 'AP_/Snout': 0.62115514}"
            ]
          },
          "metadata": {},
          "execution_count": 17
        }
      ]
    },
    {
      "cell_type": "markdown",
      "source": [
        "## Export to tensorflow lite model"
      ],
      "metadata": {
        "id": "3mTXAHYHssEg"
      }
    },
    {
      "cell_type": "code",
      "source": [
        "model.export(export_dir='.')"
      ],
      "metadata": {
        "id": "Rnb_cre0svrY",
        "colab": {
          "base_uri": "https://localhost:8080/"
        },
        "outputId": "6b3d95dd-b398-4674-ccb6-fd17f78f372b"
      },
      "execution_count": 18,
      "outputs": [
        {
          "output_type": "stream",
          "name": "stderr",
          "text": [
            "WARNING:tensorflow:Skipping full serialization of Keras layer <tensorflow_examples.lite.model_maker.core.task.model_spec.object_detector_spec.ExportModel object at 0x7efc445a1b80>, because it is not built.\n",
            "WARNING:absl:Found untraced functions such as restored_function_body, restored_function_body, restored_function_body, restored_function_body, restored_function_body while saving (showing 5 of 608). These functions will not be directly callable after loading.\n"
          ]
        }
      ]
    },
    {
      "cell_type": "markdown",
      "source": [
        "## Evaluate the tensorflow lite model"
      ],
      "metadata": {
        "id": "jQdB9bkOs02_"
      }
    },
    {
      "cell_type": "code",
      "source": [
        "model.evaluate_tflite('model.tflite', test_data)\n"
      ],
      "metadata": {
        "id": "_q6hVEd9s3tG",
        "colab": {
          "base_uri": "https://localhost:8080/"
        },
        "outputId": "512166d1-459f-4697-d2eb-6a0f42f9b206"
      },
      "execution_count": 19,
      "outputs": [
        {
          "output_type": "stream",
          "name": "stdout",
          "text": [
            "3/3 [==============================] - 7s 2s/step\n",
            "\n"
          ]
        },
        {
          "output_type": "execute_result",
          "data": {
            "text/plain": [
              "{'AP': 0.5610561,\n",
              " 'AP50': 1.0,\n",
              " 'AP75': 0.44224423,\n",
              " 'APs': -1.0,\n",
              " 'APm': -1.0,\n",
              " 'APl': 0.5610561,\n",
              " 'ARmax1': 0.6,\n",
              " 'ARmax10': 0.6,\n",
              " 'ARmax100': 0.6,\n",
              " 'ARs': -1.0,\n",
              " 'ARm': -1.0,\n",
              " 'ARl': 0.6,\n",
              " 'AP_/Snout': 0.5610561}"
            ]
          },
          "metadata": {},
          "execution_count": 19
        }
      ]
    }
  ]
}