{
  "nbformat": 4,
  "nbformat_minor": 0,
  "metadata": {
    "colab": {
      "provenance": [],
      "authorship_tag": "ABX9TyOZniBMWIajGddFP8LXq5Dl",
      "include_colab_link": true
    },
    "kernelspec": {
      "name": "python3",
      "display_name": "Python 3"
    },
    "language_info": {
      "name": "python"
    },
    "accelerator": "GPU",
    "gpuClass": "standard"
  },
  "cells": [
    {
      "cell_type": "markdown",
      "metadata": {
        "id": "view-in-github",
        "colab_type": "text"
      },
      "source": [
        "<a href=\"https://colab.research.google.com/github/swisscheese38/tfcatflap-training/blob/master/train.ipynb\" target=\"_parent\"><img src=\"https://colab.research.google.com/assets/colab-badge.svg\" alt=\"Open In Colab\"/></a>"
      ]
    },
    {
      "cell_type": "markdown",
      "source": [
        "# Learn and export the model\n",
        "According to https://www.tensorflow.org/lite/models/modify/model_maker/object_detection\n",
        "## Install dependencies"
      ],
      "metadata": {
        "id": "q_ZFvDo9O0wM"
      }
    },
    {
      "cell_type": "code",
      "execution_count": 2,
      "metadata": {
        "colab": {
          "base_uri": "https://localhost:8080/"
        },
        "id": "ltOWg04wNHsH",
        "outputId": "b83639d1-5e68-478f-fa15-2a9a95607b2e"
      },
      "outputs": [
        {
          "output_type": "stream",
          "name": "stdout",
          "text": [
            "Python 3.8.10\n",
            "pip 22.0.4 from /usr/local/lib/python3.8/dist-packages/pip (python 3.8)\n"
          ]
        }
      ],
      "source": [
        "!python --version\n",
        "!pip --version\n",
        "!pip install -q tflite-model-maker"
      ]
    },
    {
      "cell_type": "markdown",
      "source": [
        "## Assert presence of pictures and bounding boxes\n",
        "\n",
        "Training data should be uploaded in the Jupyter notebook's workspace. There should be a `train`, a `validate` and a `test` folder. Each of them should contain images in `jpeg` format and bounding boxes in `Pascal VOC XML` format. You can use https://www.makesense.ai to create the bounding boxes for your labels in your images."
      ],
      "metadata": {
        "id": "zLZl6_INPBRb"
      }
    },
    {
      "cell_type": "code",
      "source": [
        "!pwd\n",
        "!ls -R"
      ],
      "metadata": {
        "colab": {
          "base_uri": "https://localhost:8080/"
        },
        "id": "siZ5PswaTYUr",
        "outputId": "8f60cf36-528f-4888-9f1a-48dd5f144f78"
      },
      "execution_count": 6,
      "outputs": [
        {
          "output_type": "stream",
          "name": "stdout",
          "text": [
            "/content\n",
            ".:\n",
            "test  train  validate\n",
            "\n",
            "./test:\n",
            "img_1674412177951.jpg  img_1674761013859.jpg  img_1675192410433.jpg\n",
            "img_1674412177951.xml  img_1674761013859.xml  img_1675192410433.xml\n",
            "img_1674497552657.jpg  img_1674808236542.jpg  img_1675258662302.jpg\n",
            "img_1674497552657.xml  img_1674808236542.xml  img_1675258662302.xml\n",
            "img_1674504120619.jpg  img_1674809298789.jpg  img_1675319610246.jpg\n",
            "img_1674504120619.xml  img_1674809298789.xml  img_1675319610246.xml\n",
            "img_1674627210835.jpg  img_1674889996204.jpg  img_1675319611278.jpg\n",
            "img_1674627210835.xml  img_1674889996204.xml  img_1675319611278.xml\n",
            "img_1674627216842.jpg  img_1674889997238.jpg  img_1675319612310.jpg\n",
            "img_1674627216842.xml  img_1674889997238.xml  img_1675319612310.xml\n",
            "img_1674627217874.jpg  img_1674889998269.jpg  img_1675325176998.jpg\n",
            "img_1674627217874.xml  img_1674889998269.xml  img_1675325176998.xml\n",
            "img_1674717366096.jpg  img_1674934837268.jpg  img_1675357367517.jpg\n",
            "img_1674717366096.xml  img_1674934837268.xml  img_1675357367517.xml\n",
            "img_1674717370229.jpg  img_1674946279071.jpg  img_1675361564552.jpg\n",
            "img_1674717370229.xml  img_1674946279071.xml  img_1675361564552.xml\n",
            "img_1674733063175.jpg  img_1675019054244.jpg  img_1675361565602.jpg\n",
            "img_1674733063175.xml  img_1675019054244.xml  img_1675361565602.xml\n",
            "img_1674733066225.jpg  img_1675111344388.jpg  img_1675362032372.jpg\n",
            "img_1674733066225.xml  img_1675111344388.xml  img_1675362032372.xml\n",
            "img_1674760821678.jpg  img_1675111345420.jpg  img_1675362057808.jpg\n",
            "img_1674760821678.xml  img_1675111345420.xml  img_1675362057808.xml\n",
            "img_1674760824703.jpg  img_1675148915744.jpg  img_1675362058854.jpg\n",
            "img_1674760824703.xml  img_1675148915744.xml  img_1675362058854.xml\n",
            "img_1674760838601.jpg  img_1675148916778.jpg  img_1675362059902.jpg\n",
            "img_1674760838601.xml  img_1675148916778.xml  img_1675362059902.xml\n",
            "img_1674760859768.jpg  img_1675148917892.jpg  img_1675362078028.jpg\n",
            "img_1674760859768.xml  img_1675148917892.xml  img_1675362078028.xml\n",
            "img_1674761009726.jpg  img_1675148918926.jpg  img_1675362100713.jpg\n",
            "img_1674761009726.xml  img_1675148918926.xml  img_1675362100713.xml\n",
            "img_1674761011793.jpg  img_1675148947164.jpg  img_1675362132813.jpg\n",
            "img_1674761011793.xml  img_1675148947164.xml  img_1675362132813.xml\n",
            "img_1674761012826.jpg  img_1675149187226.jpg\n",
            "img_1674761012826.xml  img_1675149187226.xml\n",
            "\n",
            "./train:\n",
            "img_1670737652286.jpg  img_1671937258780.jpg  img_1672768053222.jpg\n",
            "img_1670737652286.xml  img_1671937258780.xml  img_1672768053222.xml\n",
            "img_1670737654346.jpg  img_1672005469418.jpg  img_1672773838456.jpg\n",
            "img_1670737654346.xml  img_1672005469418.xml  img_1672773838456.xml\n",
            "img_1670737656360.jpg  img_1672005470450.jpg  img_1672812055531.jpg\n",
            "img_1670737656360.xml  img_1672005470450.xml  img_1672812055531.xml\n",
            "img_1670737713024.jpg  img_1672005474437.jpg  img_1672812058631.jpg\n",
            "img_1670737713024.xml  img_1672005474437.xml  img_1672812058631.xml\n",
            "img_1670737748718.jpg  img_1672005475472.jpg  img_1672812060647.jpg\n",
            "img_1670737748718.xml  img_1672005475472.xml  img_1672812060647.xml\n",
            "img_1670737749750.jpg  img_1672005476502.jpg  img_1672816227549.jpg\n",
            "img_1670737749750.xml  img_1672005476502.xml  img_1672816227549.xml\n",
            "img_1670737750782.jpg  img_1672005477535.jpg  img_1672898073768.jpg\n",
            "img_1670737750782.xml  img_1672005477535.xml  img_1672898073768.xml\n",
            "img_1670737768569.jpg  img_1672005478568.jpg  img_1672909326538.jpg\n",
            "img_1670737768569.xml  img_1672005478568.xml  img_1672909326538.xml\n",
            "img_1670826631566.jpg  img_1672005479600.jpg  img_1672909327571.jpg\n",
            "img_1670826631566.xml  img_1672005479600.xml  img_1672909327571.xml\n",
            "img_1670826633115.jpg  img_1672005481667.jpg  img_1672939041701.jpg\n",
            "img_1670826633115.xml  img_1672005481667.xml  img_1672939041701.xml\n",
            "img_1670826639745.jpg  img_1672005488609.jpg  img_1672950826669.jpg\n",
            "img_1670826639745.xml  img_1672005488609.xml  img_1672950826669.xml\n",
            "img_1670829161006.jpg  img_1672005490628.jpg  img_1672989023739.jpg\n",
            "img_1670829161006.xml  img_1672005490628.xml  img_1672989023739.xml\n",
            "img_1670829178691.jpg  img_1672005494709.jpg  img_1673086252227.jpg\n",
            "img_1670829178691.xml  img_1672005494709.xml  img_1673086252227.xml\n",
            "img_1670829180253.jpg  img_1672005500711.jpg  img_1673086328309.jpg\n",
            "img_1670829180253.xml  img_1672005500711.xml  img_1673086328309.xml\n",
            "img_1670831724139.jpg  img_1672005501744.jpg  img_1673123459136.jpg\n",
            "img_1670831724139.xml  img_1672005501744.xml  img_1673123459136.xml\n",
            "img_1670831756892.jpg  img_1672005502775.jpg  img_1673123460168.jpg\n",
            "img_1670831756892.xml  img_1672005502775.xml  img_1673123460168.xml\n",
            "img_1670831790299.jpg  img_1672005503807.jpg  img_1673154513598.jpg\n",
            "img_1670831790299.xml  img_1672005503807.xml  img_1673154513598.xml\n",
            "img_1670831791858.jpg  img_1672005504839.jpg  img_1673157461992.jpg\n",
            "img_1670831791858.xml  img_1672005504839.xml  img_1673157461992.xml\n",
            "img_1670831793407.jpg  img_1672005522850.jpg  img_1673198550679.jpg\n",
            "img_1670831793407.xml  img_1672005522850.xml  img_1673198550679.xml\n",
            "img_1670875597154.jpg  img_1672005545877.jpg  img_1673202103059.jpg\n",
            "img_1670875597154.xml  img_1672005545877.xml  img_1673202103059.xml\n",
            "img_1670875598721.jpg  img_1672005546909.jpg  img_1673208908824.jpg\n",
            "img_1670875598721.xml  img_1672005546909.xml  img_1673208908824.xml\n",
            "img_1670906787114.jpg  img_1672005547942.jpg  img_1673208924731.jpg\n",
            "img_1670906787114.xml  img_1672005547942.xml  img_1673208924731.xml\n",
            "img_1670933313179.jpg  img_1672005548972.jpg  img_1673208925764.jpg\n",
            "img_1670933313179.xml  img_1672005548972.xml  img_1673208925764.xml\n",
            "img_1670933355496.jpg  img_1672005550004.jpg  img_1673208928766.jpg\n",
            "img_1670933355496.xml  img_1672005550004.xml  img_1673208928766.xml\n",
            "img_1670933368568.jpg  img_1672005556051.jpg  img_1673212542125.jpg\n",
            "img_1670933368568.xml  img_1672005556051.xml  img_1673212542125.xml\n",
            "img_1670958552916.jpg  img_1672005560182.jpg  img_1673212543156.jpg\n",
            "img_1670958552916.xml  img_1672005560182.xml  img_1673212543156.xml\n",
            "img_1670958554447.jpg  img_1672005561215.jpg  img_1673226673183.jpg\n",
            "img_1670958554447.xml  img_1672005561215.xml  img_1673226673183.xml\n",
            "img_1671011026586.jpg  img_1672005563234.jpg  img_1673226674216.jpg\n",
            "img_1671011026586.xml  img_1672005563234.xml  img_1673226674216.xml\n",
            "img_1671011080914.jpg  img_1672005564265.jpg  img_1673238093858.jpg\n",
            "img_1671011080914.xml  img_1672005564265.xml  img_1673238093858.xml\n",
            "img_1671011082463.jpg  img_1672005565297.jpg  img_1673248998367.jpg\n",
            "img_1671011082463.xml  img_1672005565297.xml  img_1673248998367.xml\n",
            "img_1671011094534.jpg  img_1672005566330.jpg  img_1673248999399.jpg\n",
            "img_1671011094534.xml  img_1672005566330.xml  img_1673248999399.xml\n",
            "img_1671050520695.jpg  img_1672005567432.jpg  img_1673294922313.jpg\n",
            "img_1671050520695.xml  img_1672005567432.xml  img_1673294922313.xml\n",
            "img_1671050852343.jpg  img_1672005568462.jpg  img_1673294930241.jpg\n",
            "img_1671050852343.xml  img_1672005568462.xml  img_1673294930241.xml\n",
            "img_1671058521590.jpg  img_1672005581500.jpg  img_1673294931275.jpg\n",
            "img_1671058521590.xml  img_1672005581500.xml  img_1673294931275.xml\n",
            "img_1671080677593.jpg  img_1672005582532.jpg  img_1673294932307.jpg\n",
            "img_1671080677593.xml  img_1672005582532.xml  img_1673294932307.xml\n",
            "img_1671080694084.jpg  img_1672005583565.jpg  img_1673294939361.jpg\n",
            "img_1671080694084.xml  img_1672005583565.xml  img_1673294939361.xml\n",
            "img_1671080695618.jpg  img_1672005584597.jpg  img_1673295021525.jpg\n",
            "img_1671080695618.xml  img_1672005584597.xml  img_1673295021525.xml\n",
            "img_1671080712605.jpg  img_1672005585628.jpg  img_1673295022559.jpg\n",
            "img_1671080712605.xml  img_1672005585628.xml  img_1673295022559.xml\n",
            "img_1671080726696.jpg  img_1672005586660.jpg  img_1673295029860.jpg\n",
            "img_1671080726696.xml  img_1672005586660.xml  img_1673295029860.xml\n",
            "img_1671080760633.jpg  img_1672005587691.jpg  img_1673295030892.jpg\n",
            "img_1671080760633.xml  img_1672005587691.xml  img_1673295030892.xml\n",
            "img_1671081018843.jpg  img_1672005588722.jpg  img_1673295031924.jpg\n",
            "img_1671081018843.xml  img_1672005588722.xml  img_1673295031924.xml\n",
            "img_1671092555435.jpg  img_1672005590785.jpg  img_1673295038167.jpg\n",
            "img_1671092555435.xml  img_1672005590785.xml  img_1673295038167.xml\n",
            "img_1671133157056.jpg  img_1672005592848.jpg  img_1673295055008.jpg\n",
            "img_1671133157056.xml  img_1672005592848.xml  img_1673295055008.xml\n",
            "img_1671227004717.jpg  img_1672005593879.jpg  img_1673327132566.jpg\n",
            "img_1671227004717.xml  img_1672005593879.xml  img_1673327132566.xml\n",
            "img_1671227023931.jpg  img_1672005594911.jpg  img_1673336604625.jpg\n",
            "img_1671227023931.xml  img_1672005594911.xml  img_1673336604625.xml\n",
            "img_1671227037028.jpg  img_1672005595944.jpg  img_1673381823125.jpg\n",
            "img_1671227037028.xml  img_1672005595944.xml  img_1673381823125.xml\n",
            "img_1671267366882.jpg  img_1672005619806.jpg  img_1673395244985.jpg\n",
            "img_1671267366882.xml  img_1672005619806.xml  img_1673395244985.xml\n",
            "img_1671267410619.jpg  img_1672005620836.jpg  img_1673423357283.jpg\n",
            "img_1671267410619.xml  img_1672005620836.xml  img_1673423357283.xml\n",
            "img_1671267458630.jpg  img_1672005621868.jpg  img_1673458429065.jpg\n",
            "img_1671267458630.xml  img_1672005621868.xml  img_1673458429065.xml\n",
            "img_1671269517885.jpg  img_1672005622900.jpg  img_1673458433255.jpg\n",
            "img_1671269517885.xml  img_1672005622900.xml  img_1673458433255.xml\n",
            "img_1671317356685.jpg  img_1672005623931.jpg  img_1673500396025.jpg\n",
            "img_1671317356685.xml  img_1672005623931.xml  img_1673500396025.xml\n",
            "img_1671317373693.jpg  img_1672005624963.jpg  img_1673502960064.jpg\n",
            "img_1671317373693.xml  img_1672005624963.xml  img_1673502960064.xml\n",
            "img_1671347184911.jpg  img_1672005625995.jpg  img_1673513765011.jpg\n",
            "img_1671347184911.xml  img_1672005625995.xml  img_1673513765011.xml\n",
            "img_1671362516712.jpg  img_1672005627028.jpg  img_1673543509902.jpg\n",
            "img_1671362516712.xml  img_1672005627028.xml  img_1673543509902.xml\n",
            "img_1671395761468.jpg  img_1672005706820.jpg  img_1673543511921.jpg\n",
            "img_1671395761468.xml  img_1672005706820.xml  img_1673543511921.xml\n",
            "img_1671395763075.jpg  img_1672005707853.jpg  img_1673543512953.jpg\n",
            "img_1671395763075.xml  img_1672005707853.xml  img_1673543512953.xml\n",
            "img_1671395765629.jpg  img_1672005967938.jpg  img_1673543519950.jpg\n",
            "img_1671395765629.xml  img_1672005967938.xml  img_1673543519950.xml\n",
            "img_1671395767164.jpg  img_1672005968970.jpg  img_1673549514228.jpg\n",
            "img_1671395767164.xml  img_1672005968970.xml  img_1673549514228.xml\n",
            "img_1671396484166.jpg  img_1672005970002.jpg  img_1673582320161.jpg\n",
            "img_1671396484166.xml  img_1672005970002.xml  img_1673582320161.xml\n",
            "img_1671396701586.jpg  img_1672005971035.jpg  img_1673582321195.jpg\n",
            "img_1671396701586.xml  img_1672005971035.xml  img_1673582321195.xml\n",
            "img_1671400067258.jpg  img_1672005972066.jpg  img_1673582325186.jpg\n",
            "img_1671400067258.xml  img_1672005972066.xml  img_1673582325186.xml\n",
            "img_1671400068824.jpg  img_1672005973100.jpg  img_1673582327358.jpg\n",
            "img_1671400068824.xml  img_1672005973100.xml  img_1673582327358.xml\n",
            "img_1671400083050.jpg  img_1672005974133.jpg  img_1673752782165.jpg\n",
            "img_1671400083050.xml  img_1672005974133.xml  img_1673752782165.xml\n",
            "img_1671400128156.jpg  img_1672005975165.jpg  img_1673752785215.jpg\n",
            "img_1671400128156.xml  img_1672005975165.xml  img_1673752785215.xml\n",
            "img_1671423645880.jpg  img_1672006002034.jpg  img_1673752793146.jpg\n",
            "img_1671423645880.xml  img_1672006002034.xml  img_1673752793146.xml\n",
            "img_1671424127483.jpg  img_1672006015163.jpg  img_1673752794177.jpg\n",
            "img_1671424127483.xml  img_1672006015163.xml  img_1673752794177.xml\n",
            "img_1671424129045.jpg  img_1672006017178.jpg  img_1673756716953.jpg\n",
            "img_1671424129045.xml  img_1672006017178.xml  img_1673756716953.xml\n",
            "img_1671424141131.jpg  img_1672006018209.jpg  img_1673756719019.jpg\n",
            "img_1671424141131.xml  img_1672006018209.xml  img_1673756719019.xml\n",
            "img_1671424142681.jpg  img_1672006019241.jpg  img_1673813891685.jpg\n",
            "img_1671424142681.xml  img_1672006019241.xml  img_1673813891685.xml\n",
            "img_1671424144250.jpg  img_1672006020274.jpg  img_1673900079429.jpg\n",
            "img_1671424144250.xml  img_1672006020274.xml  img_1673900079429.xml\n",
            "img_1671478304021.jpg  img_1672006021373.jpg  img_1673948948799.jpg\n",
            "img_1671478304021.xml  img_1672006021373.xml  img_1673948948799.xml\n",
            "img_1671478305256.jpg  img_1672006061381.jpg  img_1674025981653.jpg\n",
            "img_1671478305256.xml  img_1672006061381.xml  img_1674025981653.xml\n",
            "img_1671480378797.jpg  img_1672006062414.jpg  img_1674108138043.jpg\n",
            "img_1671480378797.xml  img_1672006062414.xml  img_1674108138043.xml\n",
            "img_1671480382020.jpg  img_1672006102655.jpg  img_1674108147996.jpg\n",
            "img_1671480382020.xml  img_1672006102655.xml  img_1674108147996.xml\n",
            "img_1671480383262.jpg  img_1672006103687.jpg  img_1674108237724.jpg\n",
            "img_1671480383262.xml  img_1672006103687.xml  img_1674108237724.xml\n",
            "img_1671480385743.jpg  img_1672006108798.jpg  img_1674108289314.jpg\n",
            "img_1671480385743.xml  img_1672006108798.xml  img_1674108289314.xml\n",
            "img_1671509425543.jpg  img_1672006109830.jpg  img_1674130536239.jpg\n",
            "img_1671509425543.xml  img_1672006109830.xml  img_1674130536239.xml\n",
            "img_1671522744822.jpg  img_1672006110945.jpg  img_1674130537271.jpg\n",
            "img_1671522744822.xml  img_1672006110945.xml  img_1674130537271.xml\n",
            "img_1671566994117.jpg  img_1672006113009.jpg  img_1674199483541.jpg\n",
            "img_1671566994117.xml  img_1672006113009.xml  img_1674199483541.xml\n",
            "img_1671566999306.jpg  img_1672006114041.jpg  img_1674205744111.jpg\n",
            "img_1671566999306.xml  img_1672006114041.xml  img_1674205744111.xml\n",
            "img_1671567000542.jpg  img_1672006120095.jpg  img_1674205749084.jpg\n",
            "img_1671567000542.xml  img_1672006120095.xml  img_1674205749084.xml\n",
            "img_1671567001778.jpg  img_1672006121129.jpg  img_1674205769918.jpg\n",
            "img_1671567001778.xml  img_1672006121129.xml  img_1674205769918.xml\n",
            "img_1671599022875.jpg  img_1672006122160.jpg  img_1674205772921.jpg\n",
            "img_1671599022875.xml  img_1672006122160.xml  img_1674205772921.xml\n",
            "img_1671599024109.jpg  img_1672006123193.jpg  img_1674205794994.jpg\n",
            "img_1671599024109.xml  img_1672006123193.xml  img_1674205794994.xml\n",
            "img_1671642282978.jpg  img_1672006124225.jpg  img_1674205815785.jpg\n",
            "img_1671642282978.xml  img_1672006124225.xml  img_1674205815785.xml\n",
            "img_1671659556367.jpg  img_1672006131211.jpg  img_1674205827803.jpg\n",
            "img_1671659556367.xml  img_1672006131211.xml  img_1674205827803.xml\n",
            "img_1671659557601.jpg  img_1672006135295.jpg  img_1674205840708.jpg\n",
            "img_1671659557601.xml  img_1672006135295.xml  img_1674205840708.xml\n",
            "img_1671683938200.jpg  img_1672033996020.jpg  img_1674205900858.jpg\n",
            "img_1671683938200.xml  img_1672033996020.xml  img_1674205900858.xml\n",
            "img_1671683943632.jpg  img_1672033997053.jpg  img_1674205901891.jpg\n",
            "img_1671683943632.xml  img_1672033997053.xml  img_1674205901891.xml\n",
            "img_1671685656136.jpg  img_1672033998084.jpg  img_1674205902924.jpg\n",
            "img_1671685656136.xml  img_1672033998084.xml  img_1674205902924.xml\n",
            "img_1671740973580.jpg  img_1672041281839.jpg  img_1674205903957.jpg\n",
            "img_1671740973580.xml  img_1672041281839.xml  img_1674205903957.xml\n",
            "img_1671740976580.jpg  img_1672081450043.jpg  img_1674205904990.jpg\n",
            "img_1671740976580.xml  img_1672081450043.xml  img_1674205904990.xml\n",
            "img_1671740979582.jpg  img_1672081451074.jpg  img_1674205906024.jpg\n",
            "img_1671740979582.xml  img_1672081451074.xml  img_1674205906024.xml\n",
            "img_1671823752527.jpg  img_1672081453090.jpg  img_1674205978032.jpg\n",
            "img_1671823752527.xml  img_1672081453090.xml  img_1674205978032.xml\n",
            "img_1671853881791.jpg  img_1672087867658.jpg  img_1674205979065.jpg\n",
            "img_1671853881791.xml  img_1672087867658.xml  img_1674205979065.xml\n",
            "img_1671860305141.jpg  img_1672090540574.jpg  img_1674205980098.jpg\n",
            "img_1671860305141.xml  img_1672090540574.xml  img_1674205980098.xml\n",
            "img_1671873146050.jpg  img_1672090541607.jpg  img_1674205981131.jpg\n",
            "img_1671873146050.xml  img_1672090541607.xml  img_1674205981131.xml\n",
            "img_1671873147081.jpg  img_1672100914236.jpg  img_1674205982165.jpg\n",
            "img_1671873147081.xml  img_1672100914236.xml  img_1674205982165.xml\n",
            "img_1671873153036.jpg  img_1672120374432.jpg  img_1674205983199.jpg\n",
            "img_1671873153036.xml  img_1672120374432.xml  img_1674205983199.xml\n",
            "img_1671873156132.jpg  img_1672120376449.jpg  img_1674205991276.jpg\n",
            "img_1671873156132.xml  img_1672120376449.xml  img_1674205991276.xml\n",
            "img_1671873157165.jpg  img_1672131983362.jpg  img_1674205993343.jpg\n",
            "img_1671873157165.xml  img_1672131983362.xml  img_1674205993343.xml\n",
            "img_1671873158196.jpg  img_1672167219279.jpg  img_1674205994380.jpg\n",
            "img_1671873158196.xml  img_1672167219279.xml  img_1674205994380.xml\n",
            "img_1671873159229.jpg  img_1672169686298.jpg  img_1674206041506.jpg\n",
            "img_1671873159229.xml  img_1672169686298.xml  img_1674206041506.xml\n",
            "img_1671873167148.jpg  img_1672169689301.jpg  img_1674206078437.jpg\n",
            "img_1671873167148.xml  img_1672169689301.xml  img_1674206078437.xml\n",
            "img_1671873179109.jpg  img_1672295090795.jpg  img_1674206079471.jpg\n",
            "img_1671873179109.xml  img_1672295090795.xml  img_1674206079471.xml\n",
            "img_1671873180141.jpg  img_1672295091827.jpg  img_1674206080503.jpg\n",
            "img_1671873180141.xml  img_1672295091827.xml  img_1674206080503.xml\n",
            "img_1671873181174.jpg  img_1672295092863.jpg  img_1674206081535.jpg\n",
            "img_1671873181174.xml  img_1672295092863.xml  img_1674206081535.xml\n",
            "img_1671873184174.jpg  img_1672295304377.jpg  img_1674206082566.jpg\n",
            "img_1671873184174.xml  img_1672295304377.xml  img_1674206082566.xml\n",
            "img_1671873185206.jpg  img_1672295315316.jpg  img_1674206083769.jpg\n",
            "img_1671873185206.xml  img_1672295315316.xml  img_1674206083769.xml\n",
            "img_1671873186236.jpg  img_1672333754004.jpg  img_1674206085787.jpg\n",
            "img_1671873186236.xml  img_1672333754004.xml  img_1674206085787.xml\n",
            "img_1671873187268.jpg  img_1672333755037.jpg  img_1674206086819.jpg\n",
            "img_1671873187268.xml  img_1672333755037.xml  img_1674206086819.xml\n",
            "img_1671873188299.jpg  img_1672333756068.jpg  img_1674290896850.jpg\n",
            "img_1671873188299.xml  img_1672333756068.xml  img_1674290896850.xml\n",
            "img_1671873189331.jpg  img_1672333757174.jpg  img_1674290897881.jpg\n",
            "img_1671873189331.xml  img_1672333757174.xml  img_1674290897881.xml\n",
            "img_1671873190363.jpg  img_1672353206243.jpg  img_1674290900887.jpg\n",
            "img_1671873190363.xml  img_1672353206243.xml  img_1674290900887.xml\n",
            "img_1671873192381.jpg  img_1672353211217.jpg  img_1674292763532.jpg\n",
            "img_1671873192381.xml  img_1672353211217.xml  img_1674292763532.xml\n",
            "img_1671873213339.jpg  img_1672353216336.jpg  img_1674292781513.jpg\n",
            "img_1671873213339.xml  img_1672353216336.xml  img_1674292781513.xml\n",
            "img_1671873214370.jpg  img_1672401403198.jpg  img_1674292790478.jpg\n",
            "img_1671873214370.xml  img_1672401403198.xml  img_1674292790478.xml\n",
            "img_1671873215403.jpg  img_1672403481569.jpg  img_1674292795551.jpg\n",
            "img_1671873215403.xml  img_1672403481569.xml  img_1674292795551.xml\n",
            "img_1671873217466.jpg  img_1672427741825.jpg  img_1674292811417.jpg\n",
            "img_1671873217466.xml  img_1672427741825.xml  img_1674292811417.xml\n",
            "img_1671873277663.jpg  img_1672427744829.jpg  img_1674296236051.jpg\n",
            "img_1671873277663.xml  img_1672427744829.xml  img_1674296236051.xml\n",
            "img_1671873278694.jpg  img_1672427745862.jpg  img_1674296252976.jpg\n",
            "img_1671873278694.xml  img_1672427745862.xml  img_1674296252976.xml\n",
            "img_1671873280757.jpg  img_1672427748866.jpg  img_1674296265890.jpg\n",
            "img_1671873280757.xml  img_1672427748866.xml  img_1674296265890.xml\n",
            "img_1671873281790.jpg  img_1672427753931.jpg  img_1674296273936.jpg\n",
            "img_1671873281790.xml  img_1672427753931.xml  img_1674296273936.xml\n",
            "img_1671873311711.jpg  img_1672427754966.jpg  img_1674296286837.jpg\n",
            "img_1671873311711.xml  img_1672427754966.xml  img_1674296286837.xml\n",
            "img_1671873347195.jpg  img_1672427755998.jpg  img_1674296411635.jpg\n",
            "img_1671873347195.xml  img_1672427755998.xml  img_1674296411635.xml\n",
            "img_1671873348226.jpg  img_1672427757032.jpg  img_1674296412667.jpg\n",
            "img_1671873348226.xml  img_1672427757032.xml  img_1674296412667.xml\n",
            "img_1671873349258.jpg  img_1672427761019.jpg  img_1674296413700.jpg\n",
            "img_1671873349258.xml  img_1672427761019.xml  img_1674296413700.xml\n",
            "img_1671873350292.jpg  img_1672427763095.jpg  img_1674296486716.jpg\n",
            "img_1671873350292.xml  img_1672427763095.xml  img_1674296486716.xml\n",
            "img_1671873353390.jpg  img_1672428463235.jpg  img_1674296601830.jpg\n",
            "img_1671873353390.xml  img_1672428463235.xml  img_1674296601830.xml\n",
            "img_1671873354422.jpg  img_1672428464268.jpg  img_1674296614889.jpg\n",
            "img_1671873354422.xml  img_1672428464268.xml  img_1674296614889.xml\n",
            "img_1671873377136.jpg  img_1672428608522.jpg  img_1674296618926.jpg\n",
            "img_1671873377136.xml  img_1672428608522.xml  img_1674296618926.xml\n",
            "img_1671873378169.jpg  img_1672428609600.jpg  img_1674296619960.jpg\n",
            "img_1671873378169.xml  img_1672428609600.xml  img_1674296619960.xml\n",
            "img_1671873379202.jpg  img_1672428614663.jpg  img_1674296620992.jpg\n",
            "img_1671873379202.xml  img_1672428614663.xml  img_1674296620992.xml\n",
            "img_1671873380234.jpg  img_1672514304681.jpg  img_1674296678370.jpg\n",
            "img_1671873380234.xml  img_1672514304681.xml  img_1674296678370.xml\n",
            "img_1671873381266.jpg  img_1672514305712.jpg  img_1674296679403.jpg\n",
            "img_1671873381266.xml  img_1672514305712.xml  img_1674296679403.xml\n",
            "img_1671873382298.jpg  img_1672558894784.jpg  img_1674296709411.jpg\n",
            "img_1671873382298.xml  img_1672558894784.xml  img_1674296709411.xml\n",
            "img_1671873383333.jpg  img_1672558896810.jpg  img_1674297422956.jpg\n",
            "img_1671873383333.xml  img_1672558896810.xml  img_1674297422956.xml\n",
            "img_1671873384364.jpg  img_1672564829478.jpg  img_1674297423988.jpg\n",
            "img_1671873384364.xml  img_1672564829478.xml  img_1674297423988.xml\n",
            "img_1671873397205.jpg  img_1672599783944.jpg  img_1674297425068.jpg\n",
            "img_1671873397205.xml  img_1672599783944.xml  img_1674297425068.xml\n",
            "img_1671873398237.jpg  img_1672599784979.jpg  img_1674297428118.jpg\n",
            "img_1671873398237.xml  img_1672599784979.xml  img_1674297428118.xml\n",
            "img_1671873401238.jpg  img_1672599792953.jpg  img_1674297712495.jpg\n",
            "img_1671873401238.xml  img_1672599792953.xml  img_1674297712495.xml\n",
            "img_1671873431027.jpg  img_1672689456350.jpg  img_1674297713529.jpg\n",
            "img_1671873431027.xml  img_1672689456350.xml  img_1674297713529.xml\n",
            "img_1671918828079.jpg  img_1672689460334.jpg  img_1674297719737.jpg\n",
            "img_1671918828079.xml  img_1672689460334.xml  img_1674297719737.xml\n",
            "img_1671937254643.jpg  img_1672691675521.jpg  img_1674298123105.jpg\n",
            "img_1671937254643.xml  img_1672691675521.xml  img_1674298123105.xml\n",
            "img_1671937255678.jpg  img_1672691679511.jpg  img_1674298133060.jpg\n",
            "img_1671937255678.xml  img_1672691679511.xml  img_1674298133060.xml\n",
            "img_1671937256715.jpg  img_1672730816958.jpg  img_1674298216885.jpg\n",
            "img_1671937256715.xml  img_1672730816958.xml  img_1674298216885.xml\n",
            "img_1671937257747.jpg  img_1672734561701.jpg\n",
            "img_1671937257747.xml  img_1672734561701.xml\n",
            "\n",
            "./validate:\n",
            "img_1674298217920.jpg  img_1674298290869.jpg  img_1674298358399.jpg\n",
            "img_1674298217920.xml  img_1674298290869.xml  img_1674298358399.xml\n",
            "img_1674298218953.jpg  img_1674298291901.jpg  img_1674298360132.jpg\n",
            "img_1674298218953.xml  img_1674298291901.xml  img_1674298360132.xml\n",
            "img_1674298224918.jpg  img_1674298293166.jpg  img_1674298362152.jpg\n",
            "img_1674298224918.xml  img_1674298293166.xml  img_1674298362152.xml\n",
            "img_1674298225951.jpg  img_1674298294199.jpg  img_1674298363185.jpg\n",
            "img_1674298225951.xml  img_1674298294199.xml  img_1674298363185.xml\n",
            "img_1674298226985.jpg  img_1674298312202.jpg  img_1674298364219.jpg\n",
            "img_1674298226985.xml  img_1674298312202.xml  img_1674298364219.xml\n",
            "img_1674298228018.jpg  img_1674298313236.jpg  img_1674298365255.jpg\n",
            "img_1674298228018.xml  img_1674298313236.xml  img_1674298365255.xml\n",
            "img_1674298229052.jpg  img_1674298342999.jpg  img_1674298954200.jpg\n",
            "img_1674298229052.xml  img_1674298342999.xml  img_1674298954200.xml\n",
            "img_1674298230086.jpg  img_1674298344033.jpg  img_1674298956266.jpg\n",
            "img_1674298230086.xml  img_1674298344033.xml  img_1674298956266.xml\n",
            "img_1674298231124.jpg  img_1674298345069.jpg  img_1674298957297.jpg\n",
            "img_1674298231124.xml  img_1674298345069.xml  img_1674298957297.xml\n",
            "img_1674298232158.jpg  img_1674298346103.jpg  img_1674299185069.jpg\n",
            "img_1674298232158.xml  img_1674298346103.xml  img_1674299185069.xml\n",
            "img_1674298234179.jpg  img_1674298349107.jpg  img_1674299186103.jpg\n",
            "img_1674298234179.xml  img_1674298349107.xml  img_1674299186103.xml\n",
            "img_1674298237184.jpg  img_1674298351170.jpg  img_1674299187138.jpg\n",
            "img_1674298237184.xml  img_1674298351170.xml  img_1674299187138.xml\n",
            "img_1674298239206.jpg  img_1674298353237.jpg  img_1674299188172.jpg\n",
            "img_1674298239206.xml  img_1674298353237.xml  img_1674299188172.xml\n",
            "img_1674298251089.jpg  img_1674298354271.jpg  img_1674315858429.jpg\n",
            "img_1674298251089.xml  img_1674298354271.xml  img_1674315858429.xml\n",
            "img_1674298252124.jpg  img_1674298355303.jpg  img_1674315859463.jpg\n",
            "img_1674298252124.xml  img_1674298355303.xml  img_1674315859463.xml\n",
            "img_1674298262031.jpg  img_1674298356335.jpg  img_1674315860495.jpg\n",
            "img_1674298262031.xml  img_1674298356335.xml  img_1674315860495.xml\n",
            "img_1674298289836.jpg  img_1674298357367.jpg\n",
            "img_1674298289836.xml  img_1674298357367.xml\n"
          ]
        }
      ]
    },
    {
      "cell_type": "markdown",
      "source": [
        "\n",
        "## Load data\n"
      ],
      "metadata": {
        "id": "8Pp0HLEMY-eY"
      }
    },
    {
      "cell_type": "code",
      "source": [
        "from __future__ import annotations\n",
        "from tflite_model_maker import object_detector\n",
        "from tflite_model_maker import model_spec\n",
        "\n",
        "spec = model_spec.get('efficientdet_lite0')\n",
        "train_data = object_detector.DataLoader.from_pascal_voc(images_dir='train', annotations_dir='train', label_map=['Snout'])\n",
        "validation_data = object_detector.DataLoader.from_pascal_voc(images_dir='validate', annotations_dir='validate', label_map=['Snout'])\n",
        "test_data = object_detector.DataLoader.from_pascal_voc(images_dir='test', annotations_dir='test', label_map=['Snout'])"
      ],
      "metadata": {
        "id": "qdEkPdeLRLhg",
        "outputId": "556dacba-3793-44d8-e9de-f36fd0f25ef0",
        "colab": {
          "base_uri": "https://localhost:8080/"
        }
      },
      "execution_count": 7,
      "outputs": [
        {
          "output_type": "stream",
          "name": "stderr",
          "text": [
            "/usr/local/lib/python3.8/dist-packages/tensorflow_addons/utils/ensure_tf_install.py:53: UserWarning: Tensorflow Addons supports using Python ops for all Tensorflow versions above or equal to 2.9.0 and strictly below 2.12.0 (nightly versions are not supported). \n",
            " The versions of TensorFlow you are currently using is 2.8.4 and is not supported. \n",
            "Some things might work, some things might not.\n",
            "If you were to encounter a bug, do not file an issue.\n",
            "If you want to make sure you're using a tested and supported configuration, either change the TensorFlow version or the TensorFlow Addons's version. \n",
            "You can find the compatibility matrix in TensorFlow Addon's readme:\n",
            "https://github.com/tensorflow/addons\n",
            "  warnings.warn(\n"
          ]
        }
      ]
    },
    {
      "cell_type": "markdown",
      "source": [
        "## Train model"
      ],
      "metadata": {
        "id": "YJxBBiSNZDFn"
      }
    },
    {
      "cell_type": "code",
      "source": [
        "model = object_detector.create(train_data, model_spec=spec, batch_size=4, train_whole_model=True, validation_data=validation_data)"
      ],
      "metadata": {
        "colab": {
          "base_uri": "https://localhost:8080/"
        },
        "id": "1_lH4VeTZFxj",
        "outputId": "c051e666-3e0f-4a66-b197-50a496e006f8"
      },
      "execution_count": 8,
      "outputs": [
        {
          "output_type": "stream",
          "name": "stdout",
          "text": [
            "Epoch 1/50\n",
            "  6/110 [>.............................] - ETA: 17s - det_loss: 1.7205 - cls_loss: 1.1139 - box_loss: 0.0121 - reg_l2_loss: 0.0630 - loss: 1.7835 - learning_rate: 0.0079 - gradient_norm: 2.9390"
          ]
        },
        {
          "output_type": "stream",
          "name": "stderr",
          "text": [
            "WARNING:tensorflow:Callback method `on_train_batch_end` is slow compared to the batch time (batch time: 0.1591s vs `on_train_batch_end` time: 0.2915s). Check your callbacks.\n"
          ]
        },
        {
          "output_type": "stream",
          "name": "stdout",
          "text": [
            "110/110 [==============================] - 73s 245ms/step - det_loss: 1.0339 - cls_loss: 0.5844 - box_loss: 0.0090 - reg_l2_loss: 0.0631 - loss: 1.0970 - learning_rate: 0.0065 - gradient_norm: 4.7901 - val_det_loss: 1.5772 - val_cls_loss: 1.0773 - val_box_loss: 0.0100 - val_reg_l2_loss: 0.0632 - val_loss: 1.6404\n",
            "Epoch 2/50\n",
            "110/110 [==============================] - 24s 214ms/step - det_loss: 0.5770 - cls_loss: 0.2961 - box_loss: 0.0056 - reg_l2_loss: 0.0633 - loss: 0.6403 - learning_rate: 0.0050 - gradient_norm: 4.9724 - val_det_loss: 1.2294 - val_cls_loss: 0.6548 - val_box_loss: 0.0115 - val_reg_l2_loss: 0.0634 - val_loss: 1.2928\n",
            "Epoch 3/50\n",
            "110/110 [==============================] - 22s 204ms/step - det_loss: 0.4962 - cls_loss: 0.2678 - box_loss: 0.0046 - reg_l2_loss: 0.0634 - loss: 0.5597 - learning_rate: 0.0050 - gradient_norm: 5.2285 - val_det_loss: 0.5269 - val_cls_loss: 0.3005 - val_box_loss: 0.0045 - val_reg_l2_loss: 0.0635 - val_loss: 0.5904\n",
            "Epoch 4/50\n",
            "110/110 [==============================] - 25s 226ms/step - det_loss: 0.4655 - cls_loss: 0.2555 - box_loss: 0.0042 - reg_l2_loss: 0.0635 - loss: 0.5290 - learning_rate: 0.0049 - gradient_norm: 4.6605 - val_det_loss: 0.7680 - val_cls_loss: 0.5182 - val_box_loss: 0.0050 - val_reg_l2_loss: 0.0636 - val_loss: 0.8316\n",
            "Epoch 5/50\n",
            "110/110 [==============================] - 34s 307ms/step - det_loss: 0.4226 - cls_loss: 0.2314 - box_loss: 0.0038 - reg_l2_loss: 0.0636 - loss: 0.4863 - learning_rate: 0.0049 - gradient_norm: 4.2618 - val_det_loss: 0.7390 - val_cls_loss: 0.3875 - val_box_loss: 0.0070 - val_reg_l2_loss: 0.0637 - val_loss: 0.8026\n",
            "Epoch 6/50\n",
            "110/110 [==============================] - 23s 205ms/step - det_loss: 0.4074 - cls_loss: 0.2248 - box_loss: 0.0037 - reg_l2_loss: 0.0637 - loss: 0.4711 - learning_rate: 0.0048 - gradient_norm: 3.8525 - val_det_loss: 0.4320 - val_cls_loss: 0.2247 - val_box_loss: 0.0041 - val_reg_l2_loss: 0.0637 - val_loss: 0.4957\n",
            "Epoch 7/50\n",
            "110/110 [==============================] - 24s 218ms/step - det_loss: 0.3708 - cls_loss: 0.2055 - box_loss: 0.0033 - reg_l2_loss: 0.0637 - loss: 0.4345 - learning_rate: 0.0048 - gradient_norm: 3.6867 - val_det_loss: 0.3146 - val_cls_loss: 0.1690 - val_box_loss: 0.0029 - val_reg_l2_loss: 0.0638 - val_loss: 0.3783\n",
            "Epoch 8/50\n",
            "110/110 [==============================] - 24s 214ms/step - det_loss: 0.3648 - cls_loss: 0.2009 - box_loss: 0.0033 - reg_l2_loss: 0.0638 - loss: 0.4286 - learning_rate: 0.0047 - gradient_norm: 3.7759 - val_det_loss: 0.6913 - val_cls_loss: 0.4439 - val_box_loss: 0.0049 - val_reg_l2_loss: 0.0638 - val_loss: 0.7552\n",
            "Epoch 9/50\n",
            "110/110 [==============================] - 23s 211ms/step - det_loss: 0.3638 - cls_loss: 0.2034 - box_loss: 0.0032 - reg_l2_loss: 0.0638 - loss: 0.4277 - learning_rate: 0.0046 - gradient_norm: 3.8833 - val_det_loss: 0.2895 - val_cls_loss: 0.1351 - val_box_loss: 0.0031 - val_reg_l2_loss: 0.0639 - val_loss: 0.3534\n",
            "Epoch 10/50\n",
            "110/110 [==============================] - 27s 246ms/step - det_loss: 0.3503 - cls_loss: 0.1962 - box_loss: 0.0031 - reg_l2_loss: 0.0639 - loss: 0.4142 - learning_rate: 0.0046 - gradient_norm: 3.5509 - val_det_loss: 0.3146 - val_cls_loss: 0.1863 - val_box_loss: 0.0026 - val_reg_l2_loss: 0.0639 - val_loss: 0.3785\n",
            "Epoch 11/50\n",
            "110/110 [==============================] - 22s 203ms/step - det_loss: 0.3582 - cls_loss: 0.1991 - box_loss: 0.0032 - reg_l2_loss: 0.0639 - loss: 0.4221 - learning_rate: 0.0045 - gradient_norm: 3.7212 - val_det_loss: 0.3525 - val_cls_loss: 0.1653 - val_box_loss: 0.0037 - val_reg_l2_loss: 0.0639 - val_loss: 0.4164\n",
            "Epoch 12/50\n",
            "110/110 [==============================] - 24s 223ms/step - det_loss: 0.3295 - cls_loss: 0.1900 - box_loss: 0.0028 - reg_l2_loss: 0.0640 - loss: 0.3935 - learning_rate: 0.0044 - gradient_norm: 3.1510 - val_det_loss: 0.5588 - val_cls_loss: 0.2613 - val_box_loss: 0.0059 - val_reg_l2_loss: 0.0640 - val_loss: 0.6228\n",
            "Epoch 13/50\n",
            "110/110 [==============================] - 23s 207ms/step - det_loss: 0.3240 - cls_loss: 0.1898 - box_loss: 0.0027 - reg_l2_loss: 0.0640 - loss: 0.3880 - learning_rate: 0.0042 - gradient_norm: 3.3350 - val_det_loss: 0.4617 - val_cls_loss: 0.2559 - val_box_loss: 0.0041 - val_reg_l2_loss: 0.0640 - val_loss: 0.5257\n",
            "Epoch 14/50\n",
            "110/110 [==============================] - 22s 204ms/step - det_loss: 0.3310 - cls_loss: 0.1906 - box_loss: 0.0028 - reg_l2_loss: 0.0640 - loss: 0.3951 - learning_rate: 0.0041 - gradient_norm: 3.5103 - val_det_loss: 0.3233 - val_cls_loss: 0.1863 - val_box_loss: 0.0027 - val_reg_l2_loss: 0.0640 - val_loss: 0.3873\n",
            "Epoch 15/50\n",
            "110/110 [==============================] - 26s 240ms/step - det_loss: 0.3071 - cls_loss: 0.1796 - box_loss: 0.0026 - reg_l2_loss: 0.0640 - loss: 0.3712 - learning_rate: 0.0040 - gradient_norm: 3.4198 - val_det_loss: 0.6528 - val_cls_loss: 0.4398 - val_box_loss: 0.0043 - val_reg_l2_loss: 0.0640 - val_loss: 0.7169\n",
            "Epoch 16/50\n",
            "110/110 [==============================] - 22s 200ms/step - det_loss: 0.3061 - cls_loss: 0.1735 - box_loss: 0.0027 - reg_l2_loss: 0.0641 - loss: 0.3702 - learning_rate: 0.0039 - gradient_norm: 3.1218 - val_det_loss: 0.2921 - val_cls_loss: 0.1651 - val_box_loss: 0.0025 - val_reg_l2_loss: 0.0641 - val_loss: 0.3561\n",
            "Epoch 17/50\n",
            "110/110 [==============================] - 23s 214ms/step - det_loss: 0.3007 - cls_loss: 0.1752 - box_loss: 0.0025 - reg_l2_loss: 0.0641 - loss: 0.3647 - learning_rate: 0.0037 - gradient_norm: 3.1968 - val_det_loss: 0.2251 - val_cls_loss: 0.1357 - val_box_loss: 0.0018 - val_reg_l2_loss: 0.0641 - val_loss: 0.2892\n",
            "Epoch 18/50\n",
            "110/110 [==============================] - 24s 214ms/step - det_loss: 0.3001 - cls_loss: 0.1738 - box_loss: 0.0025 - reg_l2_loss: 0.0641 - loss: 0.3642 - learning_rate: 0.0036 - gradient_norm: 3.1526 - val_det_loss: 0.2253 - val_cls_loss: 0.1163 - val_box_loss: 0.0022 - val_reg_l2_loss: 0.0641 - val_loss: 0.2894\n",
            "Epoch 19/50\n",
            "110/110 [==============================] - 22s 200ms/step - det_loss: 0.2973 - cls_loss: 0.1762 - box_loss: 0.0024 - reg_l2_loss: 0.0641 - loss: 0.3614 - learning_rate: 0.0034 - gradient_norm: 3.2434 - val_det_loss: 0.3328 - val_cls_loss: 0.1623 - val_box_loss: 0.0034 - val_reg_l2_loss: 0.0641 - val_loss: 0.3969\n",
            "Epoch 20/50\n",
            "110/110 [==============================] - 26s 240ms/step - det_loss: 0.3013 - cls_loss: 0.1758 - box_loss: 0.0025 - reg_l2_loss: 0.0641 - loss: 0.3654 - learning_rate: 0.0033 - gradient_norm: 3.5033 - val_det_loss: 0.3073 - val_cls_loss: 0.1706 - val_box_loss: 0.0027 - val_reg_l2_loss: 0.0641 - val_loss: 0.3714\n",
            "Epoch 21/50\n",
            "110/110 [==============================] - 22s 199ms/step - det_loss: 0.2630 - cls_loss: 0.1582 - box_loss: 0.0021 - reg_l2_loss: 0.0641 - loss: 0.3271 - learning_rate: 0.0031 - gradient_norm: 3.0643 - val_det_loss: 0.2277 - val_cls_loss: 0.1188 - val_box_loss: 0.0022 - val_reg_l2_loss: 0.0641 - val_loss: 0.2918\n",
            "Epoch 22/50\n",
            "110/110 [==============================] - 23s 210ms/step - det_loss: 0.2718 - cls_loss: 0.1598 - box_loss: 0.0022 - reg_l2_loss: 0.0641 - loss: 0.3359 - learning_rate: 0.0030 - gradient_norm: 3.0576 - val_det_loss: 0.2161 - val_cls_loss: 0.1094 - val_box_loss: 0.0021 - val_reg_l2_loss: 0.0641 - val_loss: 0.2802\n",
            "Epoch 23/50\n",
            "110/110 [==============================] - 24s 215ms/step - det_loss: 0.2740 - cls_loss: 0.1653 - box_loss: 0.0022 - reg_l2_loss: 0.0641 - loss: 0.3381 - learning_rate: 0.0028 - gradient_norm: 3.2060 - val_det_loss: 0.3521 - val_cls_loss: 0.1749 - val_box_loss: 0.0035 - val_reg_l2_loss: 0.0641 - val_loss: 0.4162\n",
            "Epoch 24/50\n",
            "110/110 [==============================] - 22s 202ms/step - det_loss: 0.2771 - cls_loss: 0.1685 - box_loss: 0.0022 - reg_l2_loss: 0.0641 - loss: 0.3412 - learning_rate: 0.0027 - gradient_norm: 3.2977 - val_det_loss: 0.2571 - val_cls_loss: 0.1368 - val_box_loss: 0.0024 - val_reg_l2_loss: 0.0641 - val_loss: 0.3212\n",
            "Epoch 25/50\n",
            "110/110 [==============================] - 27s 247ms/step - det_loss: 0.2652 - cls_loss: 0.1589 - box_loss: 0.0021 - reg_l2_loss: 0.0641 - loss: 0.3293 - learning_rate: 0.0025 - gradient_norm: 3.1144 - val_det_loss: 0.2441 - val_cls_loss: 0.1249 - val_box_loss: 0.0024 - val_reg_l2_loss: 0.0641 - val_loss: 0.3083\n",
            "Epoch 26/50\n",
            "110/110 [==============================] - 22s 200ms/step - det_loss: 0.2642 - cls_loss: 0.1587 - box_loss: 0.0021 - reg_l2_loss: 0.0641 - loss: 0.3283 - learning_rate: 0.0023 - gradient_norm: 3.1029 - val_det_loss: 0.2159 - val_cls_loss: 0.1228 - val_box_loss: 0.0019 - val_reg_l2_loss: 0.0641 - val_loss: 0.2800\n",
            "Epoch 27/50\n",
            "110/110 [==============================] - 23s 210ms/step - det_loss: 0.2567 - cls_loss: 0.1549 - box_loss: 0.0020 - reg_l2_loss: 0.0641 - loss: 0.3209 - learning_rate: 0.0022 - gradient_norm: 3.3902 - val_det_loss: 0.1685 - val_cls_loss: 0.0959 - val_box_loss: 0.0015 - val_reg_l2_loss: 0.0641 - val_loss: 0.2326\n",
            "Epoch 28/50\n",
            "110/110 [==============================] - 24s 217ms/step - det_loss: 0.2640 - cls_loss: 0.1572 - box_loss: 0.0021 - reg_l2_loss: 0.0641 - loss: 0.3281 - learning_rate: 0.0020 - gradient_norm: 3.2660 - val_det_loss: 0.2622 - val_cls_loss: 0.1390 - val_box_loss: 0.0025 - val_reg_l2_loss: 0.0641 - val_loss: 0.3264\n",
            "Epoch 29/50\n",
            "110/110 [==============================] - 22s 203ms/step - det_loss: 0.2573 - cls_loss: 0.1578 - box_loss: 0.0020 - reg_l2_loss: 0.0641 - loss: 0.3214 - learning_rate: 0.0019 - gradient_norm: 3.2063 - val_det_loss: 0.2653 - val_cls_loss: 0.1299 - val_box_loss: 0.0027 - val_reg_l2_loss: 0.0641 - val_loss: 0.3295\n",
            "Epoch 30/50\n",
            "110/110 [==============================] - 26s 241ms/step - det_loss: 0.2421 - cls_loss: 0.1489 - box_loss: 0.0019 - reg_l2_loss: 0.0641 - loss: 0.3062 - learning_rate: 0.0017 - gradient_norm: 3.0317 - val_det_loss: 0.2268 - val_cls_loss: 0.1125 - val_box_loss: 0.0023 - val_reg_l2_loss: 0.0641 - val_loss: 0.2909\n",
            "Epoch 31/50\n",
            "110/110 [==============================] - 23s 210ms/step - det_loss: 0.2465 - cls_loss: 0.1503 - box_loss: 0.0019 - reg_l2_loss: 0.0641 - loss: 0.3106 - learning_rate: 0.0016 - gradient_norm: 2.9814 - val_det_loss: 0.2430 - val_cls_loss: 0.1140 - val_box_loss: 0.0026 - val_reg_l2_loss: 0.0641 - val_loss: 0.3071\n",
            "Epoch 32/50\n",
            "110/110 [==============================] - 22s 203ms/step - det_loss: 0.2376 - cls_loss: 0.1469 - box_loss: 0.0018 - reg_l2_loss: 0.0641 - loss: 0.3017 - learning_rate: 0.0014 - gradient_norm: 3.1467 - val_det_loss: 0.3368 - val_cls_loss: 0.1477 - val_box_loss: 0.0038 - val_reg_l2_loss: 0.0641 - val_loss: 0.4009\n",
            "Epoch 33/50\n",
            "110/110 [==============================] - 24s 221ms/step - det_loss: 0.2505 - cls_loss: 0.1565 - box_loss: 0.0019 - reg_l2_loss: 0.0641 - loss: 0.3146 - learning_rate: 0.0013 - gradient_norm: 3.3997 - val_det_loss: 0.2277 - val_cls_loss: 0.1124 - val_box_loss: 0.0023 - val_reg_l2_loss: 0.0641 - val_loss: 0.2919\n",
            "Epoch 34/50\n",
            "110/110 [==============================] - 22s 202ms/step - det_loss: 0.2435 - cls_loss: 0.1471 - box_loss: 0.0019 - reg_l2_loss: 0.0641 - loss: 0.3076 - learning_rate: 0.0011 - gradient_norm: 3.3506 - val_det_loss: 0.2080 - val_cls_loss: 0.1081 - val_box_loss: 0.0020 - val_reg_l2_loss: 0.0641 - val_loss: 0.2721\n",
            "Epoch 35/50\n",
            "110/110 [==============================] - 27s 248ms/step - det_loss: 0.2338 - cls_loss: 0.1444 - box_loss: 0.0018 - reg_l2_loss: 0.0641 - loss: 0.2979 - learning_rate: 0.0010 - gradient_norm: 3.0461 - val_det_loss: 0.1947 - val_cls_loss: 0.1077 - val_box_loss: 0.0017 - val_reg_l2_loss: 0.0641 - val_loss: 0.2588\n",
            "Epoch 36/50\n",
            "110/110 [==============================] - 22s 201ms/step - det_loss: 0.2231 - cls_loss: 0.1389 - box_loss: 0.0017 - reg_l2_loss: 0.0641 - loss: 0.2872 - learning_rate: 8.7972e-04 - gradient_norm: 2.9772 - val_det_loss: 0.1845 - val_cls_loss: 0.0972 - val_box_loss: 0.0017 - val_reg_l2_loss: 0.0641 - val_loss: 0.2487\n",
            "Epoch 37/50\n",
            "110/110 [==============================] - 22s 202ms/step - det_loss: 0.2296 - cls_loss: 0.1421 - box_loss: 0.0018 - reg_l2_loss: 0.0641 - loss: 0.2938 - learning_rate: 7.6111e-04 - gradient_norm: 3.1630 - val_det_loss: 0.1815 - val_cls_loss: 0.0969 - val_box_loss: 0.0017 - val_reg_l2_loss: 0.0641 - val_loss: 0.2456\n",
            "Epoch 38/50\n",
            "110/110 [==============================] - 24s 221ms/step - det_loss: 0.2357 - cls_loss: 0.1491 - box_loss: 0.0017 - reg_l2_loss: 0.0641 - loss: 0.2998 - learning_rate: 6.4964e-04 - gradient_norm: 3.2367 - val_det_loss: 0.1871 - val_cls_loss: 0.0983 - val_box_loss: 0.0018 - val_reg_l2_loss: 0.0641 - val_loss: 0.2512\n",
            "Epoch 39/50\n",
            "110/110 [==============================] - 22s 202ms/step - det_loss: 0.2294 - cls_loss: 0.1446 - box_loss: 0.0017 - reg_l2_loss: 0.0641 - loss: 0.2935 - learning_rate: 5.4577e-04 - gradient_norm: 2.9451 - val_det_loss: 0.1728 - val_cls_loss: 0.0960 - val_box_loss: 0.0015 - val_reg_l2_loss: 0.0641 - val_loss: 0.2369\n",
            "Epoch 40/50\n",
            "110/110 [==============================] - 26s 241ms/step - det_loss: 0.2318 - cls_loss: 0.1439 - box_loss: 0.0018 - reg_l2_loss: 0.0641 - loss: 0.2960 - learning_rate: 4.4993e-04 - gradient_norm: 3.2589 - val_det_loss: 0.1742 - val_cls_loss: 0.0947 - val_box_loss: 0.0016 - val_reg_l2_loss: 0.0641 - val_loss: 0.2383\n",
            "Epoch 41/50\n",
            "110/110 [==============================] - 23s 205ms/step - det_loss: 0.2210 - cls_loss: 0.1366 - box_loss: 0.0017 - reg_l2_loss: 0.0641 - loss: 0.2851 - learning_rate: 3.6252e-04 - gradient_norm: 3.2080 - val_det_loss: 0.1723 - val_cls_loss: 0.0981 - val_box_loss: 0.0015 - val_reg_l2_loss: 0.0641 - val_loss: 0.2364\n",
            "Epoch 42/50\n",
            "110/110 [==============================] - 22s 202ms/step - det_loss: 0.2315 - cls_loss: 0.1446 - box_loss: 0.0017 - reg_l2_loss: 0.0641 - loss: 0.2956 - learning_rate: 2.8389e-04 - gradient_norm: 3.2291 - val_det_loss: 0.1844 - val_cls_loss: 0.0990 - val_box_loss: 0.0017 - val_reg_l2_loss: 0.0641 - val_loss: 0.2485\n",
            "Epoch 43/50\n",
            "110/110 [==============================] - 25s 224ms/step - det_loss: 0.2123 - cls_loss: 0.1363 - box_loss: 0.0015 - reg_l2_loss: 0.0641 - loss: 0.2764 - learning_rate: 2.1437e-04 - gradient_norm: 2.9659 - val_det_loss: 0.1828 - val_cls_loss: 0.0983 - val_box_loss: 0.0017 - val_reg_l2_loss: 0.0641 - val_loss: 0.2469\n",
            "Epoch 44/50\n",
            "110/110 [==============================] - 23s 208ms/step - det_loss: 0.2401 - cls_loss: 0.1478 - box_loss: 0.0018 - reg_l2_loss: 0.0641 - loss: 0.3042 - learning_rate: 1.5424e-04 - gradient_norm: 3.3059 - val_det_loss: 0.1826 - val_cls_loss: 0.0945 - val_box_loss: 0.0018 - val_reg_l2_loss: 0.0641 - val_loss: 0.2467\n",
            "Epoch 45/50\n",
            "110/110 [==============================] - 26s 240ms/step - det_loss: 0.2183 - cls_loss: 0.1357 - box_loss: 0.0017 - reg_l2_loss: 0.0641 - loss: 0.2824 - learning_rate: 1.0375e-04 - gradient_norm: 3.1678 - val_det_loss: 0.1740 - val_cls_loss: 0.0942 - val_box_loss: 0.0016 - val_reg_l2_loss: 0.0641 - val_loss: 0.2381\n",
            "Epoch 46/50\n",
            "110/110 [==============================] - 23s 205ms/step - det_loss: 0.2188 - cls_loss: 0.1381 - box_loss: 0.0016 - reg_l2_loss: 0.0641 - loss: 0.2829 - learning_rate: 6.3108e-05 - gradient_norm: 3.2637 - val_det_loss: 0.1803 - val_cls_loss: 0.0951 - val_box_loss: 0.0017 - val_reg_l2_loss: 0.0641 - val_loss: 0.2444\n",
            "Epoch 47/50\n",
            "110/110 [==============================] - 22s 203ms/step - det_loss: 0.2311 - cls_loss: 0.1451 - box_loss: 0.0017 - reg_l2_loss: 0.0641 - loss: 0.2952 - learning_rate: 3.2478e-05 - gradient_norm: 3.1423 - val_det_loss: 0.1804 - val_cls_loss: 0.0961 - val_box_loss: 0.0017 - val_reg_l2_loss: 0.0641 - val_loss: 0.2445\n",
            "Epoch 48/50\n",
            "110/110 [==============================] - 25s 232ms/step - det_loss: 0.2153 - cls_loss: 0.1377 - box_loss: 0.0016 - reg_l2_loss: 0.0641 - loss: 0.2794 - learning_rate: 1.1987e-05 - gradient_norm: 2.9890 - val_det_loss: 0.1806 - val_cls_loss: 0.0963 - val_box_loss: 0.0017 - val_reg_l2_loss: 0.0641 - val_loss: 0.2447\n",
            "Epoch 49/50\n",
            "110/110 [==============================] - 22s 204ms/step - det_loss: 0.2140 - cls_loss: 0.1336 - box_loss: 0.0016 - reg_l2_loss: 0.0641 - loss: 0.2781 - learning_rate: 1.7202e-06 - gradient_norm: 3.2070 - val_det_loss: 0.1808 - val_cls_loss: 0.0965 - val_box_loss: 0.0017 - val_reg_l2_loss: 0.0641 - val_loss: 0.2449\n",
            "Epoch 50/50\n",
            "110/110 [==============================] - 27s 242ms/step - det_loss: 0.2155 - cls_loss: 0.1400 - box_loss: 0.0015 - reg_l2_loss: 0.0641 - loss: 0.2796 - learning_rate: 1.7194e-06 - gradient_norm: 3.1123 - val_det_loss: 0.1797 - val_cls_loss: 0.0963 - val_box_loss: 0.0017 - val_reg_l2_loss: 0.0641 - val_loss: 0.2438\n"
          ]
        }
      ]
    },
    {
      "cell_type": "markdown",
      "source": [
        "## Test the model"
      ],
      "metadata": {
        "id": "UdqrlHrSsmms"
      }
    },
    {
      "cell_type": "code",
      "source": [
        "model.evaluate(test_data)"
      ],
      "metadata": {
        "colab": {
          "base_uri": "https://localhost:8080/"
        },
        "id": "VL5SDWyFsozu",
        "outputId": "8312a03f-9464-4cdd-8192-3aa28a255c75"
      },
      "execution_count": 9,
      "outputs": [
        {
          "output_type": "stream",
          "name": "stdout",
          "text": [
            "\r1/1 [==============================] - 9s 9s/step\n",
            "\n"
          ]
        },
        {
          "output_type": "execute_result",
          "data": {
            "text/plain": [
              "{'AP': 0.60986143,\n",
              " 'AP50': 1.0,\n",
              " 'AP75': 0.68423057,\n",
              " 'APs': -1.0,\n",
              " 'APm': 0.50555557,\n",
              " 'APl': 0.60719687,\n",
              " 'ARmax1': 0.674,\n",
              " 'ARmax10': 0.706,\n",
              " 'ARmax100': 0.71,\n",
              " 'ARs': -1.0,\n",
              " 'ARm': 0.6,\n",
              " 'ARl': 0.71224487,\n",
              " 'AP_/Snout': 0.60986143}"
            ]
          },
          "metadata": {},
          "execution_count": 9
        }
      ]
    },
    {
      "cell_type": "markdown",
      "source": [
        "## Export to tensorflow lite model"
      ],
      "metadata": {
        "id": "3mTXAHYHssEg"
      }
    },
    {
      "cell_type": "code",
      "source": [
        "model.export(export_dir='.')"
      ],
      "metadata": {
        "id": "Rnb_cre0svrY",
        "colab": {
          "base_uri": "https://localhost:8080/"
        },
        "outputId": "b4395cd7-2314-4207-c803-57eb7c6a6cb4"
      },
      "execution_count": 10,
      "outputs": [
        {
          "output_type": "stream",
          "name": "stderr",
          "text": [
            "WARNING:tensorflow:Skipping full serialization of Keras layer <tensorflow_examples.lite.model_maker.core.task.model_spec.object_detector_spec.ExportModel object at 0x7fc72a39d6a0>, because it is not built.\n",
            "WARNING:absl:Found untraced functions such as restored_function_body, restored_function_body, restored_function_body, restored_function_body, restored_function_body while saving (showing 5 of 608). These functions will not be directly callable after loading.\n"
          ]
        }
      ]
    },
    {
      "cell_type": "markdown",
      "source": [
        "## Evaluate the tensorflow lite model"
      ],
      "metadata": {
        "id": "jQdB9bkOs02_"
      }
    },
    {
      "cell_type": "code",
      "source": [
        "model.evaluate_tflite('model.tflite', test_data)\n"
      ],
      "metadata": {
        "id": "_q6hVEd9s3tG",
        "colab": {
          "base_uri": "https://localhost:8080/"
        },
        "outputId": "7a00ddac-9083-4960-99c1-56910c855406"
      },
      "execution_count": 11,
      "outputs": [
        {
          "output_type": "stream",
          "name": "stdout",
          "text": [
            "50/50 [==============================] - 142s 3s/step\n",
            "\n"
          ]
        },
        {
          "output_type": "execute_result",
          "data": {
            "text/plain": [
              "{'AP': 0.5997981,\n",
              " 'AP50': 1.0,\n",
              " 'AP75': 0.65040624,\n",
              " 'APs': -1.0,\n",
              " 'APm': 0.5,\n",
              " 'APl': 0.59692514,\n",
              " 'ARmax1': 0.666,\n",
              " 'ARmax10': 0.666,\n",
              " 'ARmax100': 0.668,\n",
              " 'ARs': -1.0,\n",
              " 'ARm': 0.5,\n",
              " 'ARl': 0.67142856,\n",
              " 'AP_/Snout': 0.5997981}"
            ]
          },
          "metadata": {},
          "execution_count": 11
        }
      ]
    }
  ]
}